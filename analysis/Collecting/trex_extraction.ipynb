{
 "cells": [
  {
   "cell_type": "code",
   "execution_count": 2,
   "metadata": {},
   "outputs": [],
   "source": [
    "import pandas as pd\n",
    "\n",
    "df_sbj = pd.read_excel(\"Knowledge_Editing_Dataset/data/one_hop/df_one_hop_sbj.xlsx\")\n",
    "df_trex = pd.read_excel(\"Knowledge_Editing_Dataset/data/one_hop/df_imsi_trex.xlsx\")"
   ]
  },
  {
   "cell_type": "code",
   "execution_count": 3,
   "metadata": {},
   "outputs": [
    {
     "data": {
      "text/html": [
       "<div>\n",
       "<style scoped>\n",
       "    .dataframe tbody tr th:only-of-type {\n",
       "        vertical-align: middle;\n",
       "    }\n",
       "\n",
       "    .dataframe tbody tr th {\n",
       "        vertical-align: top;\n",
       "    }\n",
       "\n",
       "    .dataframe thead th {\n",
       "        text-align: right;\n",
       "    }\n",
       "</style>\n",
       "<table border=\"1\" class=\"dataframe\">\n",
       "  <thead>\n",
       "    <tr style=\"text-align: right;\">\n",
       "      <th></th>\n",
       "      <th>index</th>\n",
       "      <th>subject</th>\n",
       "      <th>subject_id</th>\n",
       "      <th>one_hop</th>\n",
       "    </tr>\n",
       "  </thead>\n",
       "  <tbody>\n",
       "    <tr>\n",
       "      <th>0</th>\n",
       "      <td>0</td>\n",
       "      <td>Danielle Darrieux</td>\n",
       "      <td>Q234149</td>\n",
       "      <td>singer,actor,Bois-le-Roi,film,film actor,Franc...</td>\n",
       "    </tr>\n",
       "    <tr>\n",
       "      <th>1</th>\n",
       "      <td>1</td>\n",
       "      <td>Edwin of Northumbria</td>\n",
       "      <td>Q348955</td>\n",
       "      <td>Kingdom of Bernicia,English,King of Northumbri...</td>\n",
       "    </tr>\n",
       "    <tr>\n",
       "      <th>2</th>\n",
       "      <td>2</td>\n",
       "      <td>Toko Yasuda</td>\n",
       "      <td>Q7813654</td>\n",
       "      <td>rock music,Blonde Redhead,musician,bass guitar...</td>\n",
       "    </tr>\n",
       "    <tr>\n",
       "      <th>3</th>\n",
       "      <td>3</td>\n",
       "      <td>Autonomous University of Madrid</td>\n",
       "      <td>Q788091</td>\n",
       "      <td>Coalition for Advancing Research Assessment,Co...</td>\n",
       "    </tr>\n",
       "    <tr>\n",
       "      <th>4</th>\n",
       "      <td>4</td>\n",
       "      <td>Lyon</td>\n",
       "      <td>Q456</td>\n",
       "      <td>Metropolis of Lyon,Guangzhou,Košice,Leipzig,Bi...</td>\n",
       "    </tr>\n",
       "  </tbody>\n",
       "</table>\n",
       "</div>"
      ],
      "text/plain": [
       "   index                          subject subject_id  \\\n",
       "0      0                Danielle Darrieux    Q234149   \n",
       "1      1             Edwin of Northumbria    Q348955   \n",
       "2      2                      Toko Yasuda   Q7813654   \n",
       "3      3  Autonomous University of Madrid    Q788091   \n",
       "4      4                             Lyon       Q456   \n",
       "\n",
       "                                             one_hop  \n",
       "0  singer,actor,Bois-le-Roi,film,film actor,Franc...  \n",
       "1  Kingdom of Bernicia,English,King of Northumbri...  \n",
       "2  rock music,Blonde Redhead,musician,bass guitar...  \n",
       "3  Coalition for Advancing Research Assessment,Co...  \n",
       "4  Metropolis of Lyon,Guangzhou,Košice,Leipzig,Bi...  "
      ]
     },
     "execution_count": 3,
     "metadata": {},
     "output_type": "execute_result"
    }
   ],
   "source": [
    "df_sbj.head()"
   ]
  },
  {
   "cell_type": "code",
   "execution_count": 4,
   "metadata": {},
   "outputs": [
    {
     "data": {
      "text/html": [
       "<div>\n",
       "<style scoped>\n",
       "    .dataframe tbody tr th:only-of-type {\n",
       "        vertical-align: middle;\n",
       "    }\n",
       "\n",
       "    .dataframe tbody tr th {\n",
       "        vertical-align: top;\n",
       "    }\n",
       "\n",
       "    .dataframe thead th {\n",
       "        text-align: right;\n",
       "    }\n",
       "</style>\n",
       "<table border=\"1\" class=\"dataframe\">\n",
       "  <thead>\n",
       "    <tr style=\"text-align: right;\">\n",
       "      <th></th>\n",
       "      <th>index</th>\n",
       "      <th>subject</th>\n",
       "      <th>subject_id</th>\n",
       "      <th>one_hop</th>\n",
       "      <th>TREx_id</th>\n",
       "      <th>trex_one_hop</th>\n",
       "    </tr>\n",
       "  </thead>\n",
       "  <tbody>\n",
       "    <tr>\n",
       "      <th>0</th>\n",
       "      <td>4</td>\n",
       "      <td>Lyon</td>\n",
       "      <td>Q456</td>\n",
       "      <td>Metropolis of Lyon,Guangzhou,Košice,Leipzig,Bi...</td>\n",
       "      <td>Q6709677</td>\n",
       "      <td>United States of America,Oakland County</td>\n",
       "    </tr>\n",
       "    <tr>\n",
       "      <th>1</th>\n",
       "      <td>15</td>\n",
       "      <td>Percy Snow</td>\n",
       "      <td>Q7167583</td>\n",
       "      <td>American football player,Guangzhou,American fo...</td>\n",
       "      <td>Q333575</td>\n",
       "      <td>member of the House of Lords,English,politicia...</td>\n",
       "    </tr>\n",
       "    <tr>\n",
       "      <th>2</th>\n",
       "      <td>16</td>\n",
       "      <td>Saint Petersburg</td>\n",
       "      <td>Q656</td>\n",
       "      <td>Oslo,Helsinki,Casablanca,Xi'an,Dushanbe,Sevast...</td>\n",
       "      <td>Q1197271</td>\n",
       "      <td>Saint Petersburg,French</td>\n",
       "    </tr>\n",
       "    <tr>\n",
       "      <th>3</th>\n",
       "      <td>18</td>\n",
       "      <td>Porsche 911</td>\n",
       "      <td>Q219357</td>\n",
       "      <td>auto racing,Porsche</td>\n",
       "      <td>Q2104537</td>\n",
       "      <td>Porsche</td>\n",
       "    </tr>\n",
       "    <tr>\n",
       "      <th>4</th>\n",
       "      <td>33</td>\n",
       "      <td>Majorette</td>\n",
       "      <td>Q405033</td>\n",
       "      <td>NaN</td>\n",
       "      <td>Q531015</td>\n",
       "      <td>Lyon,France</td>\n",
       "    </tr>\n",
       "  </tbody>\n",
       "</table>\n",
       "</div>"
      ],
      "text/plain": [
       "   index           subject subject_id  \\\n",
       "0      4              Lyon       Q456   \n",
       "1     15        Percy Snow   Q7167583   \n",
       "2     16  Saint Petersburg       Q656   \n",
       "3     18       Porsche 911    Q219357   \n",
       "4     33         Majorette    Q405033   \n",
       "\n",
       "                                             one_hop   TREx_id  \\\n",
       "0  Metropolis of Lyon,Guangzhou,Košice,Leipzig,Bi...  Q6709677   \n",
       "1  American football player,Guangzhou,American fo...   Q333575   \n",
       "2  Oslo,Helsinki,Casablanca,Xi'an,Dushanbe,Sevast...  Q1197271   \n",
       "3                                auto racing,Porsche  Q2104537   \n",
       "4                                                NaN   Q531015   \n",
       "\n",
       "                                        trex_one_hop  \n",
       "0            United States of America,Oakland County  \n",
       "1  member of the House of Lords,English,politicia...  \n",
       "2                            Saint Petersburg,French  \n",
       "3                                            Porsche  \n",
       "4                                        Lyon,France  "
      ]
     },
     "execution_count": 4,
     "metadata": {},
     "output_type": "execute_result"
    }
   ],
   "source": [
    "df_trex.head()"
   ]
  },
  {
   "cell_type": "code",
   "execution_count": 6,
   "metadata": {},
   "outputs": [
    {
     "name": "stdout",
     "output_type": "stream",
     "text": [
      "Total null count is 0\n",
      "Total different count is 2839\n",
      "Subject null count is 261\n",
      "trex null count is 159\n"
     ]
    }
   ],
   "source": [
    "from tqdm import tqdm\n",
    "\n",
    "null_count = 0\n",
    "different_count = 0\n",
    "null_one_hop =0\n",
    "null_trex_one_hop = 0\n",
    "\n",
    "\n",
    "for i in range(len(df_trex)):\n",
    "    trex_id = df_trex.loc[i, 'TREx_id']\n",
    "    subject_id = df_trex.loc[i, 'subject_id']\n",
    "    if pd.isna(trex_id):\n",
    "        null_count += 1\n",
    "    elif trex_id != subject_id:\n",
    "        different_count += 1\n",
    "    if pd.isna(df_trex.loc[i, 'one_hop']):\n",
    "        null_one_hop += 1\n",
    "    elif pd.isna(df_trex.loc[i, 'trex_one_hop']):\n",
    "        #print(1)\n",
    "        pass\n",
    "    if pd.isna(df_trex.loc[i, 'trex_one_hop']):\n",
    "        null_trex_one_hop += 1\n",
    "        \n",
    "\n",
    "\n",
    "print(f'Total null count is {null_count}')\n",
    "print(f'Total different count is {different_count}')\n",
    "print(f'Subject null count is {null_one_hop}')\n",
    "print(f'trex null count is {null_trex_one_hop}')"
   ]
  },
  {
   "cell_type": "code",
   "execution_count": 7,
   "metadata": {},
   "outputs": [],
   "source": [
    "for i in range(len(df_trex)):\n",
    "    trex_id = df_trex.loc[i, 'TREx_id']\n",
    "    subject_id = df_trex.loc[i, 'subject_id']\n",
    "    trex_word = df_trex.loc[i, 'trex_one_hop']\n",
    "    subject_word = df_trex.loc[i, 'one_hop']\n",
    "    if not pd.isna(trex_id) and not pd.isna(trex_word) and (trex_id != subject_id):\n",
    "        df_sbj.loc[i, 'subject_id'] = trex_id\n",
    "        df_sbj.loc[i, 'one_hop'] = trex_word\n"
   ]
  },
  {
   "cell_type": "code",
   "execution_count": 8,
   "metadata": {},
   "outputs": [
    {
     "data": {
      "text/html": [
       "<div>\n",
       "<style scoped>\n",
       "    .dataframe tbody tr th:only-of-type {\n",
       "        vertical-align: middle;\n",
       "    }\n",
       "\n",
       "    .dataframe tbody tr th {\n",
       "        vertical-align: top;\n",
       "    }\n",
       "\n",
       "    .dataframe thead th {\n",
       "        text-align: right;\n",
       "    }\n",
       "</style>\n",
       "<table border=\"1\" class=\"dataframe\">\n",
       "  <thead>\n",
       "    <tr style=\"text-align: right;\">\n",
       "      <th></th>\n",
       "      <th>index</th>\n",
       "      <th>subject</th>\n",
       "      <th>subject_id</th>\n",
       "      <th>one_hop</th>\n",
       "    </tr>\n",
       "  </thead>\n",
       "  <tbody>\n",
       "    <tr>\n",
       "      <th>0</th>\n",
       "      <td>0</td>\n",
       "      <td>Danielle Darrieux</td>\n",
       "      <td>Q6709677</td>\n",
       "      <td>United States of America,Oakland County</td>\n",
       "    </tr>\n",
       "    <tr>\n",
       "      <th>1</th>\n",
       "      <td>1</td>\n",
       "      <td>Edwin of Northumbria</td>\n",
       "      <td>Q333575</td>\n",
       "      <td>member of the House of Lords,English,politicia...</td>\n",
       "    </tr>\n",
       "    <tr>\n",
       "      <th>2</th>\n",
       "      <td>2</td>\n",
       "      <td>Toko Yasuda</td>\n",
       "      <td>Q1197271</td>\n",
       "      <td>Saint Petersburg,French</td>\n",
       "    </tr>\n",
       "    <tr>\n",
       "      <th>3</th>\n",
       "      <td>3</td>\n",
       "      <td>Autonomous University of Madrid</td>\n",
       "      <td>Q2104537</td>\n",
       "      <td>Porsche</td>\n",
       "    </tr>\n",
       "    <tr>\n",
       "      <th>4</th>\n",
       "      <td>4</td>\n",
       "      <td>Lyon</td>\n",
       "      <td>Q531015</td>\n",
       "      <td>Lyon,France</td>\n",
       "    </tr>\n",
       "  </tbody>\n",
       "</table>\n",
       "</div>"
      ],
      "text/plain": [
       "   index                          subject subject_id  \\\n",
       "0      0                Danielle Darrieux   Q6709677   \n",
       "1      1             Edwin of Northumbria    Q333575   \n",
       "2      2                      Toko Yasuda   Q1197271   \n",
       "3      3  Autonomous University of Madrid   Q2104537   \n",
       "4      4                             Lyon    Q531015   \n",
       "\n",
       "                                             one_hop  \n",
       "0            United States of America,Oakland County  \n",
       "1  member of the House of Lords,English,politicia...  \n",
       "2                            Saint Petersburg,French  \n",
       "3                                            Porsche  \n",
       "4                                        Lyon,France  "
      ]
     },
     "execution_count": 8,
     "metadata": {},
     "output_type": "execute_result"
    }
   ],
   "source": [
    "df_sbj.head()"
   ]
  },
  {
   "cell_type": "code",
   "execution_count": 10,
   "metadata": {},
   "outputs": [
    {
     "data": {
      "text/plain": [
       "21919"
      ]
     },
     "execution_count": 10,
     "metadata": {},
     "output_type": "execute_result"
    }
   ],
   "source": [
    "len(df_sbj)"
   ]
  },
  {
   "cell_type": "code",
   "execution_count": 11,
   "metadata": {},
   "outputs": [],
   "source": [
    "df_sbj.to_excel('df_one_hop_sbj_last.xlsx', index = False)"
   ]
  }
 ],
 "metadata": {
  "kernelspec": {
   "display_name": "EasyEdit",
   "language": "python",
   "name": "python3"
  },
  "language_info": {
   "codemirror_mode": {
    "name": "ipython",
    "version": 3
   },
   "file_extension": ".py",
   "mimetype": "text/x-python",
   "name": "python",
   "nbconvert_exporter": "python",
   "pygments_lexer": "ipython3",
   "version": "3.9.7"
  }
 },
 "nbformat": 4,
 "nbformat_minor": 2
}
