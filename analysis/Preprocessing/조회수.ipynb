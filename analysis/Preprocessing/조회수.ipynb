{
 "cells": [
  {
   "cell_type": "code",
   "execution_count": 4,
   "metadata": {},
   "outputs": [
    {
     "name": "stdout",
     "output_type": "stream",
     "text": [
      "문서 제목: Douglas Adams\n"
     ]
    },
    {
     "data": {
      "text/plain": [
       "'Douglas Adams'"
      ]
     },
     "execution_count": 4,
     "metadata": {},
     "output_type": "execute_result"
    }
   ],
   "source": [
    "import requests\n",
    "\n",
    "def check_wikidata_response(qid):\n",
    "    # Wikidata API 요청 URL\n",
    "    entity_url = f\"https://www.wikidata.org/wiki/Special:EntityData/{qid}.json\"\n",
    "    \n",
    "    # Wikidata API 요청\n",
    "    response = requests.get(entity_url)\n",
    "    \n",
    "    # 응답 상태 코드 확인\n",
    "    if response.status_code == 200:\n",
    "        try:\n",
    "            entity_data = response.json()  # JSON으로 변환\n",
    "            # QID가 유효하다면 sitelinks에서 enwiki 문서 제목 확인\n",
    "            if 'entities' in entity_data and qid in entity_data['entities']:\n",
    "                title = entity_data['entities'][qid].get('sitelinks', {}).get('enwiki', {}).get('title')\n",
    "                if title:\n",
    "                    print(f\"문서 제목: {title}\")\n",
    "                    return title\n",
    "                else:\n",
    "                    print(\"영어 위키피디아 문서가 존재하지 않습니다.\")\n",
    "            else:\n",
    "                print(\"유효하지 않은 QID입니다.\")\n",
    "        except ValueError:\n",
    "            print(\"JSON 형식으로 변환할 수 없습니다.\")\n",
    "    else:\n",
    "        print(f\"Wikidata API 응답 실패: {response.status_code}\")\n",
    "\n",
    "# QID 예시\n",
    "check_wikidata_response(\"Q42\")  # Q42는 Douglas Adams를 나타내는 QID입니다.\n"
   ]
  },
  {
   "cell_type": "code",
   "execution_count": 7,
   "metadata": {},
   "outputs": [
    {
     "name": "stdout",
     "output_type": "stream",
     "text": [
      "조회수 데이터를 가져오는 데 실패했습니다. 403\n"
     ]
    }
   ],
   "source": [
    "import requests\n",
    "import datetime\n",
    "\n",
    "def get_wikipedia_views(qid, years=3):\n",
    "    # Wikidata API 요청 URL 및 제목 확인\n",
    "    entity_url = f\"https://www.wikidata.org/wiki/Special:EntityData/{qid}.json\"\n",
    "    response = requests.get(entity_url)\n",
    "    \n",
    "    # Wikidata API 응답 확인\n",
    "    if response.status_code == 200:\n",
    "        try:\n",
    "            entity_data = response.json()  # JSON으로 변환\n",
    "            if 'entities' in entity_data and qid in entity_data['entities']:\n",
    "                title = entity_data['entities'][qid].get('sitelinks', {}).get('enwiki', {}).get('title')\n",
    "                if not title:\n",
    "                    print(\"영어 위키피디아 문서가 존재하지 않습니다.\")\n",
    "                    return\n",
    "            else:\n",
    "                print(\"유효하지 않은 QID입니다.\")\n",
    "                return\n",
    "        except ValueError:\n",
    "            print(\"JSON 형식으로 변환할 수 없습니다.\")\n",
    "            return\n",
    "    else:\n",
    "        print(f\"Wikidata API 응답 실패: {response.status_code}\")\n",
    "        return\n",
    "    \n",
    "    # 조회수를 가져오기 위한 Wikimedia API 호출 설정\n",
    "    end_date = datetime.datetime.now()\n",
    "    start_date = end_date - datetime.timedelta(days=years*365)  # 3년 전 시작 날짜\n",
    "    start_str = start_date.strftime('%Y%m%d')\n",
    "    end_str = end_date.strftime('%Y%m%d')\n",
    "\n",
    "    # Wikimedia API 요청 URL 설정\n",
    "    url = f\"https://wikimedia.org/api/rest_v1/metrics/pageviews/per-article/en.wikipedia/all-access/all-agents/{title}/monthly/{start_str}/{end_str}\"\n",
    "    views_response = requests.get(url)\n",
    "    \n",
    "    # Wikimedia API 응답 확인 및 조회수 출력\n",
    "    if views_response.status_code == 200:\n",
    "        views_data = views_response.json().get('items', [])\n",
    "        if views_data:\n",
    "            print(f\"최근 {years}년간 월별 조회수 ({title}):\")\n",
    "            for item in views_data:\n",
    "                print(f\"{item['timestamp'][:6]}: {item['views']} views\")\n",
    "        else:\n",
    "            print(\"조회수 데이터가 존재하지 않습니다.\")\n",
    "    else:\n",
    "        print(\"조회수 데이터를 가져오는 데 실패했습니다.\", views_response.status_code)\n",
    "\n",
    "# 사용 예시\n",
    "get_wikipedia_views(\"Q42\")  # 예시로 Q42(QID) 사용\n"
   ]
  },
  {
   "cell_type": "code",
   "execution_count": 9,
   "metadata": {},
   "outputs": [
    {
     "name": "stdout",
     "output_type": "stream",
     "text": [
      "최근 3년간 월별 조회수 (Douglas Adams):\n",
      "202111: 35481 views\n",
      "202112: 38988 views\n",
      "202201: 44538 views\n",
      "202202: 41714 views\n",
      "202203: 62732 views\n",
      "202204: 49400 views\n",
      "202205: 54278 views\n",
      "202206: 40787 views\n",
      "202207: 44467 views\n",
      "202208: 47280 views\n",
      "202209: 43272 views\n",
      "202210: 43229 views\n",
      "202211: 42249 views\n",
      "202212: 41597 views\n",
      "202301: 44801 views\n",
      "202302: 41504 views\n",
      "202303: 53895 views\n",
      "202304: 43802 views\n",
      "202305: 54156 views\n",
      "202306: 45858 views\n",
      "202307: 49070 views\n",
      "202308: 45749 views\n",
      "202309: 54664 views\n",
      "202310: 48127 views\n",
      "202311: 55814 views\n",
      "202312: 55058 views\n",
      "202401: 56329 views\n",
      "202402: 45579 views\n",
      "202403: 57121 views\n",
      "202404: 50782 views\n",
      "202405: 55162 views\n",
      "202406: 46264 views\n",
      "202407: 47216 views\n",
      "202408: 48043 views\n",
      "202409: 60961 views\n",
      "202410: 52929 views\n",
      "202411: 5467 views\n"
     ]
    }
   ],
   "source": [
    "import requests\n",
    "import datetime\n",
    "\n",
    "def get_wikipedia_views(qid, years=3):\n",
    "    headers = {\n",
    "        \"User-Agent\": \"MyApp/1.0 (https://mywebsite.com; myemail@example.com)\"\n",
    "    }\n",
    "    \n",
    "    try:\n",
    "        # Wikidata API 요청 URL 및 제목 확인\n",
    "        entity_url = f\"https://www.wikidata.org/wiki/Special:EntityData/{qid}.json\"\n",
    "        response = requests.get(entity_url, headers=headers)\n",
    "        response.raise_for_status()  # HTTP 오류 발생 시 예외 처리\n",
    "        \n",
    "        # JSON 응답 파싱\n",
    "        entity_data = response.json()\n",
    "        \n",
    "        # 영어 위키피디아 문서 제목 확인\n",
    "        if 'entities' in entity_data and qid in entity_data['entities']:\n",
    "            title = entity_data['entities'][qid].get('sitelinks', {}).get('enwiki', {}).get('title')\n",
    "            if not title:\n",
    "                print(\"영어 위키피디아 문서가 존재하지 않습니다.\")\n",
    "                return\n",
    "        else:\n",
    "            print(\"유효하지 않은 QID입니다.\")\n",
    "            return\n",
    "        \n",
    "    except requests.exceptions.RequestException as e:\n",
    "        print(f\"Wikidata API 요청 오류: {e}\")\n",
    "        return\n",
    "    except ValueError:\n",
    "        print(\"JSON 형식으로 변환할 수 없습니다.\")\n",
    "        return\n",
    "    \n",
    "    # 조회수를 가져오기 위한 Wikimedia API 호출 설정\n",
    "    end_date = datetime.datetime.now()\n",
    "    start_date = end_date - datetime.timedelta(days=years*365)\n",
    "    start_str = start_date.strftime('%Y%m%d')\n",
    "    end_str = end_date.strftime('%Y%m%d')\n",
    "\n",
    "    # Wikimedia API 요청 URL 설정\n",
    "    url = f\"https://wikimedia.org/api/rest_v1/metrics/pageviews/per-article/en.wikipedia/all-access/all-agents/{title}/monthly/{start_str}/{end_str}\"\n",
    "    try:\n",
    "        views_response = requests.get(url, headers=headers)\n",
    "        views_response.raise_for_status()  # HTTP 오류 발생 시 예외 처리\n",
    "        \n",
    "        # JSON 응답 파싱\n",
    "        views_data = views_response.json().get('items', [])\n",
    "        if views_data:\n",
    "            print(f\"최근 {years}년간 월별 조회수 ({title}):\")\n",
    "            for item in views_data:\n",
    "                print(f\"{item['timestamp'][:6]}: {item['views']} views\")\n",
    "        else:\n",
    "            print(\"조회수 데이터가 존재하지 않습니다.\")\n",
    "    \n",
    "    except requests.exceptions.RequestException as e:\n",
    "        print(f\"Wikimedia API 요청 오류: {e}\")\n",
    "\n",
    "# 사용 예시\n",
    "get_wikipedia_views(\"Q42\")  # 예시로 Q42(QID) 사용\n"
   ]
  },
  {
   "cell_type": "code",
   "execution_count": 10,
   "metadata": {},
   "outputs": [
    {
     "name": "stdout",
     "output_type": "stream",
     "text": [
      "최근 3년간 전체 조회수: 1748363 views\n"
     ]
    }
   ],
   "source": [
    "import requests\n",
    "import datetime\n",
    "\n",
    "def get_wikipedia_views(qid, years=3):\n",
    "    headers = {\n",
    "        \"User-Agent\": \"MyApp/1.0 (https://mywebsite.com; myemail@example.com)\"\n",
    "    }\n",
    "    \n",
    "    try:\n",
    "        # Wikidata API 요청 URL 및 제목 확인\n",
    "        entity_url = f\"https://www.wikidata.org/wiki/Special:EntityData/{qid}.json\"\n",
    "        response = requests.get(entity_url, headers=headers)\n",
    "        response.raise_for_status()  # HTTP 오류 발생 시 예외 처리\n",
    "        \n",
    "        # JSON 응답 파싱\n",
    "        entity_data = response.json()\n",
    "        \n",
    "        # 영어 위키피디아 문서 제목 확인\n",
    "        if 'entities' in entity_data and qid in entity_data['entities']:\n",
    "            title = entity_data['entities'][qid].get('sitelinks', {}).get('enwiki', {}).get('title')\n",
    "            if not title:\n",
    "                print(\"영어 위키피디아 문서가 존재하지 않습니다.\")\n",
    "                return None\n",
    "        else:\n",
    "            print(\"유효하지 않은 QID입니다.\")\n",
    "            return None\n",
    "        \n",
    "    except requests.exceptions.RequestException as e:\n",
    "        print(f\"Wikidata API 요청 오류: {e}\")\n",
    "        return None\n",
    "    except ValueError:\n",
    "        print(\"JSON 형식으로 변환할 수 없습니다.\")\n",
    "        return None\n",
    "    \n",
    "    # 조회수를 가져오기 위한 Wikimedia API 호출 설정\n",
    "    end_date = datetime.datetime.now()\n",
    "    start_date = end_date - datetime.timedelta(days=years*365)\n",
    "    start_str = start_date.strftime('%Y%m%d')\n",
    "    end_str = end_date.strftime('%Y%m%d')\n",
    "\n",
    "    # Wikimedia API 요청 URL 설정\n",
    "    url = f\"https://wikimedia.org/api/rest_v1/metrics/pageviews/per-article/en.wikipedia/all-access/all-agents/{title}/monthly/{start_str}/{end_str}\"\n",
    "    try:\n",
    "        views_response = requests.get(url, headers=headers)\n",
    "        views_response.raise_for_status()  # HTTP 오류 발생 시 예외 처리\n",
    "        \n",
    "        # JSON 응답 파싱 및 전체 조회수 합산\n",
    "        views_data = views_response.json().get('items', [])\n",
    "        total_views = sum(item['views'] for item in views_data) if views_data else 0\n",
    "        \n",
    "        return total_views  # 전체 조회수 반환\n",
    "    \n",
    "    except requests.exceptions.RequestException as e:\n",
    "        print(f\"Wikimedia API 요청 오류: {e}\")\n",
    "        return None\n",
    "\n",
    "# 사용 예시\n",
    "total_views = get_wikipedia_views(\"Q42\")  # 예시로 Q42(QID) 사용\n",
    "if total_views is not None:\n",
    "    print(f\"최근 3년간 전체 조회수: {total_views} views\")\n",
    "else:\n",
    "    print(\"조회수 데이터를 가져오지 못했습니다.\")\n"
   ]
  },
  {
   "cell_type": "code",
   "execution_count": null,
   "metadata": {},
   "outputs": [
    {
     "name": "stdout",
     "output_type": "stream",
     "text": [
      "최근 3년간 전체 조회수: 1748363 views\n"
     ]
    }
   ],
   "source": [
    "import requests\n",
    "import datetime\n",
    "\n",
    "def get_wikipedia_views(qid, years=3):\n",
    "    headers = {\n",
    "        \"User-Agent\": \"MyApp/1.0 (https://mywebsite.com; myemail@example.com)\"\n",
    "    }\n",
    "\n",
    "    # Wikidata API 요청 URL 및 제목 확인\n",
    "    entity_url = f\"https://www.wikidata.org/wiki/Special:EntityData/{qid}.json\"\n",
    "    response = requests.get(entity_url, headers=headers)\n",
    "    \n",
    "    # 문서 제목 추출\n",
    "    entity_data = response.json()\n",
    "    title = entity_data['entities'][qid].get('sitelinks', {}).get('enwiki', {}).get('title', None)\n",
    "    if not title:\n",
    "        return -1\n",
    "\n",
    "    # 조회수를 가져오기 위한 Wikimedia API 호출 설정\n",
    "    end_date = datetime.datetime.now()\n",
    "    start_date = end_date - datetime.timedelta(days=years*365)\n",
    "    start_str = start_date.strftime('%Y%m%d')\n",
    "    end_str = end_date.strftime('%Y%m%d')\n",
    "\n",
    "    # Wikimedia API 요청 URL 설정\n",
    "    url = f\"https://wikimedia.org/api/rest_v1/metrics/pageviews/per-article/en.wikipedia/all-access/all-agents/{title}/monthly/{start_str}/{end_str}\"\n",
    "    views_response = requests.get(url, headers=headers)\n",
    "\n",
    "    # 전체 조회수 합산 후 반환\n",
    "    views_data = views_response.json().get('items', [])\n",
    "    total_views = sum(item['views'] for item in views_data) if views_data else -1\n",
    "    \n",
    "    return total_views\n",
    "\n",
    "# 사용 예시\n",
    "total_views = get_wikipedia_views(\"Q42\")  # 예시로 Q42(QID) 사용"
   ]
  },
  {
   "cell_type": "code",
   "execution_count": 31,
   "metadata": {},
   "outputs": [
    {
     "name": "stderr",
     "output_type": "stream",
     "text": [
      "/tmp/ipykernel_433205/3413113315.py:8: SettingWithCopyWarning: \n",
      "A value is trying to be set on a copy of a slice from a DataFrame.\n",
      "Try using .loc[row_indexer,col_indexer] = value instead\n",
      "\n",
      "See the caveats in the documentation: https://pandas.pydata.org/pandas-docs/stable/user_guide/indexing.html#returning-a-view-versus-a-copy\n",
      "  sbj_list['view'] = np.zeros(len(df))\n"
     ]
    },
    {
     "data": {
      "text/plain": [
       "0.0"
      ]
     },
     "execution_count": 31,
     "metadata": {},
     "output_type": "execute_result"
    }
   ],
   "source": [
    "import pandas as pd\n",
    "from tqdm import tqdm\n",
    "import numpy as np\n",
    "\n",
    "df = pd.read_excel(\"one_hop/one_hop_sbj.xlsx\")\n",
    "\n",
    "sbj_list = df[['index', 'subject_id']]\n",
    "sbj_list['view'] = np.zeros(len(df))\n",
    "sbj_list.head()\n",
    "sbj_list.loc[0, 'view']"
   ]
  },
  {
   "cell_type": "code",
   "execution_count": 33,
   "metadata": {},
   "outputs": [
    {
     "data": {
      "application/json": {
       "ascii": false,
       "bar_format": null,
       "colour": null,
       "elapsed": 0.004271507263183594,
       "initial": 0,
       "n": 0,
       "ncols": null,
       "nrows": null,
       "postfix": null,
       "prefix": "",
       "rate": null,
       "total": null,
       "unit": "it",
       "unit_divisor": 1000,
       "unit_scale": false
      },
      "application/vnd.jupyter.widget-view+json": {
       "model_id": "8611114117074308b8c26d13082f4290",
       "version_major": 2,
       "version_minor": 0
      },
      "text/plain": [
       "0it [00:00, ?it/s]"
      ]
     },
     "metadata": {},
     "output_type": "display_data"
    },
    {
     "ename": "KeyboardInterrupt",
     "evalue": "",
     "output_type": "error",
     "traceback": [
      "\u001b[0;31m---------------------------------------------------------------------------\u001b[0m",
      "\u001b[0;31mKeyboardInterrupt\u001b[0m                         Traceback (most recent call last)",
      "Cell \u001b[0;32mIn[33], line 13\u001b[0m\n\u001b[1;32m     10\u001b[0m sbj_list[\u001b[38;5;124m'\u001b[39m\u001b[38;5;124mview\u001b[39m\u001b[38;5;124m'\u001b[39m] \u001b[38;5;241m=\u001b[39m np\u001b[38;5;241m.\u001b[39mzeros(\u001b[38;5;28mlen\u001b[39m(df))\n\u001b[1;32m     12\u001b[0m \u001b[38;5;28;01mfor\u001b[39;00m idx, qid \u001b[38;5;129;01min\u001b[39;00m tqdm(\u001b[38;5;28menumerate\u001b[39m(sbj_list[\u001b[38;5;124m'\u001b[39m\u001b[38;5;124msubject_id\u001b[39m\u001b[38;5;124m'\u001b[39m])):\n\u001b[0;32m---> 13\u001b[0m     total_views \u001b[38;5;241m=\u001b[39m \u001b[43mget_wikipedia_views\u001b[49m\u001b[43m(\u001b[49m\u001b[43mqid\u001b[49m\u001b[43m)\u001b[49m\n\u001b[1;32m     14\u001b[0m     sbj_list\u001b[38;5;241m.\u001b[39miloc[idx, sbj_list\u001b[38;5;241m.\u001b[39mcolumns\u001b[38;5;241m.\u001b[39mget_loc(\u001b[38;5;124m'\u001b[39m\u001b[38;5;124mview\u001b[39m\u001b[38;5;124m'\u001b[39m)] \u001b[38;5;241m=\u001b[39m total_views  \u001b[38;5;66;03m# 변경된 부분\u001b[39;00m\n\u001b[1;32m     15\u001b[0m     \u001b[38;5;28;01mif\u001b[39;00m total_views \u001b[38;5;241m==\u001b[39m \u001b[38;5;241m-\u001b[39m\u001b[38;5;241m1\u001b[39m:\n",
      "Cell \u001b[0;32mIn[11], line 11\u001b[0m, in \u001b[0;36mget_wikipedia_views\u001b[0;34m(qid, years)\u001b[0m\n\u001b[1;32m      9\u001b[0m \u001b[38;5;66;03m# Wikidata API 요청 URL 및 제목 확인\u001b[39;00m\n\u001b[1;32m     10\u001b[0m entity_url \u001b[38;5;241m=\u001b[39m \u001b[38;5;124mf\u001b[39m\u001b[38;5;124m\"\u001b[39m\u001b[38;5;124mhttps://www.wikidata.org/wiki/Special:EntityData/\u001b[39m\u001b[38;5;132;01m{\u001b[39;00mqid\u001b[38;5;132;01m}\u001b[39;00m\u001b[38;5;124m.json\u001b[39m\u001b[38;5;124m\"\u001b[39m\n\u001b[0;32m---> 11\u001b[0m response \u001b[38;5;241m=\u001b[39m \u001b[43mrequests\u001b[49m\u001b[38;5;241;43m.\u001b[39;49m\u001b[43mget\u001b[49m\u001b[43m(\u001b[49m\u001b[43mentity_url\u001b[49m\u001b[43m,\u001b[49m\u001b[43m \u001b[49m\u001b[43mheaders\u001b[49m\u001b[38;5;241;43m=\u001b[39;49m\u001b[43mheaders\u001b[49m\u001b[43m)\u001b[49m\n\u001b[1;32m     13\u001b[0m \u001b[38;5;66;03m# 문서 제목 추출\u001b[39;00m\n\u001b[1;32m     14\u001b[0m entity_data \u001b[38;5;241m=\u001b[39m response\u001b[38;5;241m.\u001b[39mjson()\n",
      "File \u001b[0;32m~/anaconda3/envs/EasyEdit/lib/python3.9/site-packages/requests/api.py:73\u001b[0m, in \u001b[0;36mget\u001b[0;34m(url, params, **kwargs)\u001b[0m\n\u001b[1;32m     62\u001b[0m \u001b[38;5;28;01mdef\u001b[39;00m \u001b[38;5;21mget\u001b[39m(url, params\u001b[38;5;241m=\u001b[39m\u001b[38;5;28;01mNone\u001b[39;00m, \u001b[38;5;241m*\u001b[39m\u001b[38;5;241m*\u001b[39mkwargs):\n\u001b[1;32m     63\u001b[0m \u001b[38;5;250m    \u001b[39m\u001b[38;5;124mr\u001b[39m\u001b[38;5;124;03m\"\"\"Sends a GET request.\u001b[39;00m\n\u001b[1;32m     64\u001b[0m \n\u001b[1;32m     65\u001b[0m \u001b[38;5;124;03m    :param url: URL for the new :class:`Request` object.\u001b[39;00m\n\u001b[0;32m   (...)\u001b[0m\n\u001b[1;32m     70\u001b[0m \u001b[38;5;124;03m    :rtype: requests.Response\u001b[39;00m\n\u001b[1;32m     71\u001b[0m \u001b[38;5;124;03m    \"\"\"\u001b[39;00m\n\u001b[0;32m---> 73\u001b[0m     \u001b[38;5;28;01mreturn\u001b[39;00m \u001b[43mrequest\u001b[49m\u001b[43m(\u001b[49m\u001b[38;5;124;43m\"\u001b[39;49m\u001b[38;5;124;43mget\u001b[39;49m\u001b[38;5;124;43m\"\u001b[39;49m\u001b[43m,\u001b[49m\u001b[43m \u001b[49m\u001b[43murl\u001b[49m\u001b[43m,\u001b[49m\u001b[43m \u001b[49m\u001b[43mparams\u001b[49m\u001b[38;5;241;43m=\u001b[39;49m\u001b[43mparams\u001b[49m\u001b[43m,\u001b[49m\u001b[43m \u001b[49m\u001b[38;5;241;43m*\u001b[39;49m\u001b[38;5;241;43m*\u001b[39;49m\u001b[43mkwargs\u001b[49m\u001b[43m)\u001b[49m\n",
      "File \u001b[0;32m~/anaconda3/envs/EasyEdit/lib/python3.9/site-packages/requests/api.py:59\u001b[0m, in \u001b[0;36mrequest\u001b[0;34m(method, url, **kwargs)\u001b[0m\n\u001b[1;32m     55\u001b[0m \u001b[38;5;66;03m# By using the 'with' statement we are sure the session is closed, thus we\u001b[39;00m\n\u001b[1;32m     56\u001b[0m \u001b[38;5;66;03m# avoid leaving sockets open which can trigger a ResourceWarning in some\u001b[39;00m\n\u001b[1;32m     57\u001b[0m \u001b[38;5;66;03m# cases, and look like a memory leak in others.\u001b[39;00m\n\u001b[1;32m     58\u001b[0m \u001b[38;5;28;01mwith\u001b[39;00m sessions\u001b[38;5;241m.\u001b[39mSession() \u001b[38;5;28;01mas\u001b[39;00m session:\n\u001b[0;32m---> 59\u001b[0m     \u001b[38;5;28;01mreturn\u001b[39;00m \u001b[43msession\u001b[49m\u001b[38;5;241;43m.\u001b[39;49m\u001b[43mrequest\u001b[49m\u001b[43m(\u001b[49m\u001b[43mmethod\u001b[49m\u001b[38;5;241;43m=\u001b[39;49m\u001b[43mmethod\u001b[49m\u001b[43m,\u001b[49m\u001b[43m \u001b[49m\u001b[43murl\u001b[49m\u001b[38;5;241;43m=\u001b[39;49m\u001b[43murl\u001b[49m\u001b[43m,\u001b[49m\u001b[43m \u001b[49m\u001b[38;5;241;43m*\u001b[39;49m\u001b[38;5;241;43m*\u001b[39;49m\u001b[43mkwargs\u001b[49m\u001b[43m)\u001b[49m\n",
      "File \u001b[0;32m~/anaconda3/envs/EasyEdit/lib/python3.9/site-packages/requests/sessions.py:589\u001b[0m, in \u001b[0;36mSession.request\u001b[0;34m(self, method, url, params, data, headers, cookies, files, auth, timeout, allow_redirects, proxies, hooks, stream, verify, cert, json)\u001b[0m\n\u001b[1;32m    584\u001b[0m send_kwargs \u001b[38;5;241m=\u001b[39m {\n\u001b[1;32m    585\u001b[0m     \u001b[38;5;124m\"\u001b[39m\u001b[38;5;124mtimeout\u001b[39m\u001b[38;5;124m\"\u001b[39m: timeout,\n\u001b[1;32m    586\u001b[0m     \u001b[38;5;124m\"\u001b[39m\u001b[38;5;124mallow_redirects\u001b[39m\u001b[38;5;124m\"\u001b[39m: allow_redirects,\n\u001b[1;32m    587\u001b[0m }\n\u001b[1;32m    588\u001b[0m send_kwargs\u001b[38;5;241m.\u001b[39mupdate(settings)\n\u001b[0;32m--> 589\u001b[0m resp \u001b[38;5;241m=\u001b[39m \u001b[38;5;28;43mself\u001b[39;49m\u001b[38;5;241;43m.\u001b[39;49m\u001b[43msend\u001b[49m\u001b[43m(\u001b[49m\u001b[43mprep\u001b[49m\u001b[43m,\u001b[49m\u001b[43m \u001b[49m\u001b[38;5;241;43m*\u001b[39;49m\u001b[38;5;241;43m*\u001b[39;49m\u001b[43msend_kwargs\u001b[49m\u001b[43m)\u001b[49m\n\u001b[1;32m    591\u001b[0m \u001b[38;5;28;01mreturn\u001b[39;00m resp\n",
      "File \u001b[0;32m~/anaconda3/envs/EasyEdit/lib/python3.9/site-packages/requests/sessions.py:703\u001b[0m, in \u001b[0;36mSession.send\u001b[0;34m(self, request, **kwargs)\u001b[0m\n\u001b[1;32m    700\u001b[0m start \u001b[38;5;241m=\u001b[39m preferred_clock()\n\u001b[1;32m    702\u001b[0m \u001b[38;5;66;03m# Send the request\u001b[39;00m\n\u001b[0;32m--> 703\u001b[0m r \u001b[38;5;241m=\u001b[39m \u001b[43madapter\u001b[49m\u001b[38;5;241;43m.\u001b[39;49m\u001b[43msend\u001b[49m\u001b[43m(\u001b[49m\u001b[43mrequest\u001b[49m\u001b[43m,\u001b[49m\u001b[43m \u001b[49m\u001b[38;5;241;43m*\u001b[39;49m\u001b[38;5;241;43m*\u001b[39;49m\u001b[43mkwargs\u001b[49m\u001b[43m)\u001b[49m\n\u001b[1;32m    705\u001b[0m \u001b[38;5;66;03m# Total elapsed time of the request (approximately)\u001b[39;00m\n\u001b[1;32m    706\u001b[0m elapsed \u001b[38;5;241m=\u001b[39m preferred_clock() \u001b[38;5;241m-\u001b[39m start\n",
      "File \u001b[0;32m~/anaconda3/envs/EasyEdit/lib/python3.9/site-packages/requests/adapters.py:667\u001b[0m, in \u001b[0;36mHTTPAdapter.send\u001b[0;34m(self, request, stream, timeout, verify, cert, proxies)\u001b[0m\n\u001b[1;32m    664\u001b[0m     timeout \u001b[38;5;241m=\u001b[39m TimeoutSauce(connect\u001b[38;5;241m=\u001b[39mtimeout, read\u001b[38;5;241m=\u001b[39mtimeout)\n\u001b[1;32m    666\u001b[0m \u001b[38;5;28;01mtry\u001b[39;00m:\n\u001b[0;32m--> 667\u001b[0m     resp \u001b[38;5;241m=\u001b[39m \u001b[43mconn\u001b[49m\u001b[38;5;241;43m.\u001b[39;49m\u001b[43murlopen\u001b[49m\u001b[43m(\u001b[49m\n\u001b[1;32m    668\u001b[0m \u001b[43m        \u001b[49m\u001b[43mmethod\u001b[49m\u001b[38;5;241;43m=\u001b[39;49m\u001b[43mrequest\u001b[49m\u001b[38;5;241;43m.\u001b[39;49m\u001b[43mmethod\u001b[49m\u001b[43m,\u001b[49m\n\u001b[1;32m    669\u001b[0m \u001b[43m        \u001b[49m\u001b[43murl\u001b[49m\u001b[38;5;241;43m=\u001b[39;49m\u001b[43murl\u001b[49m\u001b[43m,\u001b[49m\n\u001b[1;32m    670\u001b[0m \u001b[43m        \u001b[49m\u001b[43mbody\u001b[49m\u001b[38;5;241;43m=\u001b[39;49m\u001b[43mrequest\u001b[49m\u001b[38;5;241;43m.\u001b[39;49m\u001b[43mbody\u001b[49m\u001b[43m,\u001b[49m\n\u001b[1;32m    671\u001b[0m \u001b[43m        \u001b[49m\u001b[43mheaders\u001b[49m\u001b[38;5;241;43m=\u001b[39;49m\u001b[43mrequest\u001b[49m\u001b[38;5;241;43m.\u001b[39;49m\u001b[43mheaders\u001b[49m\u001b[43m,\u001b[49m\n\u001b[1;32m    672\u001b[0m \u001b[43m        \u001b[49m\u001b[43mredirect\u001b[49m\u001b[38;5;241;43m=\u001b[39;49m\u001b[38;5;28;43;01mFalse\u001b[39;49;00m\u001b[43m,\u001b[49m\n\u001b[1;32m    673\u001b[0m \u001b[43m        \u001b[49m\u001b[43massert_same_host\u001b[49m\u001b[38;5;241;43m=\u001b[39;49m\u001b[38;5;28;43;01mFalse\u001b[39;49;00m\u001b[43m,\u001b[49m\n\u001b[1;32m    674\u001b[0m \u001b[43m        \u001b[49m\u001b[43mpreload_content\u001b[49m\u001b[38;5;241;43m=\u001b[39;49m\u001b[38;5;28;43;01mFalse\u001b[39;49;00m\u001b[43m,\u001b[49m\n\u001b[1;32m    675\u001b[0m \u001b[43m        \u001b[49m\u001b[43mdecode_content\u001b[49m\u001b[38;5;241;43m=\u001b[39;49m\u001b[38;5;28;43;01mFalse\u001b[39;49;00m\u001b[43m,\u001b[49m\n\u001b[1;32m    676\u001b[0m \u001b[43m        \u001b[49m\u001b[43mretries\u001b[49m\u001b[38;5;241;43m=\u001b[39;49m\u001b[38;5;28;43mself\u001b[39;49m\u001b[38;5;241;43m.\u001b[39;49m\u001b[43mmax_retries\u001b[49m\u001b[43m,\u001b[49m\n\u001b[1;32m    677\u001b[0m \u001b[43m        \u001b[49m\u001b[43mtimeout\u001b[49m\u001b[38;5;241;43m=\u001b[39;49m\u001b[43mtimeout\u001b[49m\u001b[43m,\u001b[49m\n\u001b[1;32m    678\u001b[0m \u001b[43m        \u001b[49m\u001b[43mchunked\u001b[49m\u001b[38;5;241;43m=\u001b[39;49m\u001b[43mchunked\u001b[49m\u001b[43m,\u001b[49m\n\u001b[1;32m    679\u001b[0m \u001b[43m    \u001b[49m\u001b[43m)\u001b[49m\n\u001b[1;32m    681\u001b[0m \u001b[38;5;28;01mexcept\u001b[39;00m (ProtocolError, \u001b[38;5;167;01mOSError\u001b[39;00m) \u001b[38;5;28;01mas\u001b[39;00m err:\n\u001b[1;32m    682\u001b[0m     \u001b[38;5;28;01mraise\u001b[39;00m \u001b[38;5;167;01mConnectionError\u001b[39;00m(err, request\u001b[38;5;241m=\u001b[39mrequest)\n",
      "File \u001b[0;32m~/anaconda3/envs/EasyEdit/lib/python3.9/site-packages/urllib3/connectionpool.py:789\u001b[0m, in \u001b[0;36mHTTPConnectionPool.urlopen\u001b[0;34m(self, method, url, body, headers, retries, redirect, assert_same_host, timeout, pool_timeout, release_conn, chunked, body_pos, preload_content, decode_content, **response_kw)\u001b[0m\n\u001b[1;32m    786\u001b[0m response_conn \u001b[38;5;241m=\u001b[39m conn \u001b[38;5;28;01mif\u001b[39;00m \u001b[38;5;129;01mnot\u001b[39;00m release_conn \u001b[38;5;28;01melse\u001b[39;00m \u001b[38;5;28;01mNone\u001b[39;00m\n\u001b[1;32m    788\u001b[0m \u001b[38;5;66;03m# Make the request on the HTTPConnection object\u001b[39;00m\n\u001b[0;32m--> 789\u001b[0m response \u001b[38;5;241m=\u001b[39m \u001b[38;5;28;43mself\u001b[39;49m\u001b[38;5;241;43m.\u001b[39;49m\u001b[43m_make_request\u001b[49m\u001b[43m(\u001b[49m\n\u001b[1;32m    790\u001b[0m \u001b[43m    \u001b[49m\u001b[43mconn\u001b[49m\u001b[43m,\u001b[49m\n\u001b[1;32m    791\u001b[0m \u001b[43m    \u001b[49m\u001b[43mmethod\u001b[49m\u001b[43m,\u001b[49m\n\u001b[1;32m    792\u001b[0m \u001b[43m    \u001b[49m\u001b[43murl\u001b[49m\u001b[43m,\u001b[49m\n\u001b[1;32m    793\u001b[0m \u001b[43m    \u001b[49m\u001b[43mtimeout\u001b[49m\u001b[38;5;241;43m=\u001b[39;49m\u001b[43mtimeout_obj\u001b[49m\u001b[43m,\u001b[49m\n\u001b[1;32m    794\u001b[0m \u001b[43m    \u001b[49m\u001b[43mbody\u001b[49m\u001b[38;5;241;43m=\u001b[39;49m\u001b[43mbody\u001b[49m\u001b[43m,\u001b[49m\n\u001b[1;32m    795\u001b[0m \u001b[43m    \u001b[49m\u001b[43mheaders\u001b[49m\u001b[38;5;241;43m=\u001b[39;49m\u001b[43mheaders\u001b[49m\u001b[43m,\u001b[49m\n\u001b[1;32m    796\u001b[0m \u001b[43m    \u001b[49m\u001b[43mchunked\u001b[49m\u001b[38;5;241;43m=\u001b[39;49m\u001b[43mchunked\u001b[49m\u001b[43m,\u001b[49m\n\u001b[1;32m    797\u001b[0m \u001b[43m    \u001b[49m\u001b[43mretries\u001b[49m\u001b[38;5;241;43m=\u001b[39;49m\u001b[43mretries\u001b[49m\u001b[43m,\u001b[49m\n\u001b[1;32m    798\u001b[0m \u001b[43m    \u001b[49m\u001b[43mresponse_conn\u001b[49m\u001b[38;5;241;43m=\u001b[39;49m\u001b[43mresponse_conn\u001b[49m\u001b[43m,\u001b[49m\n\u001b[1;32m    799\u001b[0m \u001b[43m    \u001b[49m\u001b[43mpreload_content\u001b[49m\u001b[38;5;241;43m=\u001b[39;49m\u001b[43mpreload_content\u001b[49m\u001b[43m,\u001b[49m\n\u001b[1;32m    800\u001b[0m \u001b[43m    \u001b[49m\u001b[43mdecode_content\u001b[49m\u001b[38;5;241;43m=\u001b[39;49m\u001b[43mdecode_content\u001b[49m\u001b[43m,\u001b[49m\n\u001b[1;32m    801\u001b[0m \u001b[43m    \u001b[49m\u001b[38;5;241;43m*\u001b[39;49m\u001b[38;5;241;43m*\u001b[39;49m\u001b[43mresponse_kw\u001b[49m\u001b[43m,\u001b[49m\n\u001b[1;32m    802\u001b[0m \u001b[43m\u001b[49m\u001b[43m)\u001b[49m\n\u001b[1;32m    804\u001b[0m \u001b[38;5;66;03m# Everything went great!\u001b[39;00m\n\u001b[1;32m    805\u001b[0m clean_exit \u001b[38;5;241m=\u001b[39m \u001b[38;5;28;01mTrue\u001b[39;00m\n",
      "File \u001b[0;32m~/anaconda3/envs/EasyEdit/lib/python3.9/site-packages/urllib3/connectionpool.py:466\u001b[0m, in \u001b[0;36mHTTPConnectionPool._make_request\u001b[0;34m(self, conn, method, url, body, headers, retries, timeout, chunked, response_conn, preload_content, decode_content, enforce_content_length)\u001b[0m\n\u001b[1;32m    463\u001b[0m \u001b[38;5;28;01mtry\u001b[39;00m:\n\u001b[1;32m    464\u001b[0m     \u001b[38;5;66;03m# Trigger any extra validation we need to do.\u001b[39;00m\n\u001b[1;32m    465\u001b[0m     \u001b[38;5;28;01mtry\u001b[39;00m:\n\u001b[0;32m--> 466\u001b[0m         \u001b[38;5;28;43mself\u001b[39;49m\u001b[38;5;241;43m.\u001b[39;49m\u001b[43m_validate_conn\u001b[49m\u001b[43m(\u001b[49m\u001b[43mconn\u001b[49m\u001b[43m)\u001b[49m\n\u001b[1;32m    467\u001b[0m     \u001b[38;5;28;01mexcept\u001b[39;00m (SocketTimeout, BaseSSLError) \u001b[38;5;28;01mas\u001b[39;00m e:\n\u001b[1;32m    468\u001b[0m         \u001b[38;5;28mself\u001b[39m\u001b[38;5;241m.\u001b[39m_raise_timeout(err\u001b[38;5;241m=\u001b[39me, url\u001b[38;5;241m=\u001b[39murl, timeout_value\u001b[38;5;241m=\u001b[39mconn\u001b[38;5;241m.\u001b[39mtimeout)\n",
      "File \u001b[0;32m~/anaconda3/envs/EasyEdit/lib/python3.9/site-packages/urllib3/connectionpool.py:1095\u001b[0m, in \u001b[0;36mHTTPSConnectionPool._validate_conn\u001b[0;34m(self, conn)\u001b[0m\n\u001b[1;32m   1093\u001b[0m \u001b[38;5;66;03m# Force connect early to allow us to validate the connection.\u001b[39;00m\n\u001b[1;32m   1094\u001b[0m \u001b[38;5;28;01mif\u001b[39;00m conn\u001b[38;5;241m.\u001b[39mis_closed:\n\u001b[0;32m-> 1095\u001b[0m     \u001b[43mconn\u001b[49m\u001b[38;5;241;43m.\u001b[39;49m\u001b[43mconnect\u001b[49m\u001b[43m(\u001b[49m\u001b[43m)\u001b[49m\n\u001b[1;32m   1097\u001b[0m \u001b[38;5;66;03m# TODO revise this, see https://github.com/urllib3/urllib3/issues/2791\u001b[39;00m\n\u001b[1;32m   1098\u001b[0m \u001b[38;5;28;01mif\u001b[39;00m \u001b[38;5;129;01mnot\u001b[39;00m conn\u001b[38;5;241m.\u001b[39mis_verified \u001b[38;5;129;01mand\u001b[39;00m \u001b[38;5;129;01mnot\u001b[39;00m conn\u001b[38;5;241m.\u001b[39mproxy_is_verified:\n",
      "File \u001b[0;32m~/anaconda3/envs/EasyEdit/lib/python3.9/site-packages/urllib3/connection.py:615\u001b[0m, in \u001b[0;36mHTTPSConnection.connect\u001b[0;34m(self)\u001b[0m\n\u001b[1;32m    613\u001b[0m \u001b[38;5;28;01mdef\u001b[39;00m \u001b[38;5;21mconnect\u001b[39m(\u001b[38;5;28mself\u001b[39m) \u001b[38;5;241m-\u001b[39m\u001b[38;5;241m>\u001b[39m \u001b[38;5;28;01mNone\u001b[39;00m:\n\u001b[1;32m    614\u001b[0m     sock: socket\u001b[38;5;241m.\u001b[39msocket \u001b[38;5;241m|\u001b[39m ssl\u001b[38;5;241m.\u001b[39mSSLSocket\n\u001b[0;32m--> 615\u001b[0m     \u001b[38;5;28mself\u001b[39m\u001b[38;5;241m.\u001b[39msock \u001b[38;5;241m=\u001b[39m sock \u001b[38;5;241m=\u001b[39m \u001b[38;5;28;43mself\u001b[39;49m\u001b[38;5;241;43m.\u001b[39;49m\u001b[43m_new_conn\u001b[49m\u001b[43m(\u001b[49m\u001b[43m)\u001b[49m\n\u001b[1;32m    616\u001b[0m     server_hostname: \u001b[38;5;28mstr\u001b[39m \u001b[38;5;241m=\u001b[39m \u001b[38;5;28mself\u001b[39m\u001b[38;5;241m.\u001b[39mhost\n\u001b[1;32m    617\u001b[0m     tls_in_tls \u001b[38;5;241m=\u001b[39m \u001b[38;5;28;01mFalse\u001b[39;00m\n",
      "File \u001b[0;32m~/anaconda3/envs/EasyEdit/lib/python3.9/site-packages/urllib3/connection.py:196\u001b[0m, in \u001b[0;36mHTTPConnection._new_conn\u001b[0;34m(self)\u001b[0m\n\u001b[1;32m    191\u001b[0m \u001b[38;5;250m\u001b[39m\u001b[38;5;124;03m\"\"\"Establish a socket connection and set nodelay settings on it.\u001b[39;00m\n\u001b[1;32m    192\u001b[0m \n\u001b[1;32m    193\u001b[0m \u001b[38;5;124;03m:return: New socket connection.\u001b[39;00m\n\u001b[1;32m    194\u001b[0m \u001b[38;5;124;03m\"\"\"\u001b[39;00m\n\u001b[1;32m    195\u001b[0m \u001b[38;5;28;01mtry\u001b[39;00m:\n\u001b[0;32m--> 196\u001b[0m     sock \u001b[38;5;241m=\u001b[39m \u001b[43mconnection\u001b[49m\u001b[38;5;241;43m.\u001b[39;49m\u001b[43mcreate_connection\u001b[49m\u001b[43m(\u001b[49m\n\u001b[1;32m    197\u001b[0m \u001b[43m        \u001b[49m\u001b[43m(\u001b[49m\u001b[38;5;28;43mself\u001b[39;49m\u001b[38;5;241;43m.\u001b[39;49m\u001b[43m_dns_host\u001b[49m\u001b[43m,\u001b[49m\u001b[43m \u001b[49m\u001b[38;5;28;43mself\u001b[39;49m\u001b[38;5;241;43m.\u001b[39;49m\u001b[43mport\u001b[49m\u001b[43m)\u001b[49m\u001b[43m,\u001b[49m\n\u001b[1;32m    198\u001b[0m \u001b[43m        \u001b[49m\u001b[38;5;28;43mself\u001b[39;49m\u001b[38;5;241;43m.\u001b[39;49m\u001b[43mtimeout\u001b[49m\u001b[43m,\u001b[49m\n\u001b[1;32m    199\u001b[0m \u001b[43m        \u001b[49m\u001b[43msource_address\u001b[49m\u001b[38;5;241;43m=\u001b[39;49m\u001b[38;5;28;43mself\u001b[39;49m\u001b[38;5;241;43m.\u001b[39;49m\u001b[43msource_address\u001b[49m\u001b[43m,\u001b[49m\n\u001b[1;32m    200\u001b[0m \u001b[43m        \u001b[49m\u001b[43msocket_options\u001b[49m\u001b[38;5;241;43m=\u001b[39;49m\u001b[38;5;28;43mself\u001b[39;49m\u001b[38;5;241;43m.\u001b[39;49m\u001b[43msocket_options\u001b[49m\u001b[43m,\u001b[49m\n\u001b[1;32m    201\u001b[0m \u001b[43m    \u001b[49m\u001b[43m)\u001b[49m\n\u001b[1;32m    202\u001b[0m \u001b[38;5;28;01mexcept\u001b[39;00m socket\u001b[38;5;241m.\u001b[39mgaierror \u001b[38;5;28;01mas\u001b[39;00m e:\n\u001b[1;32m    203\u001b[0m     \u001b[38;5;28;01mraise\u001b[39;00m NameResolutionError(\u001b[38;5;28mself\u001b[39m\u001b[38;5;241m.\u001b[39mhost, \u001b[38;5;28mself\u001b[39m, e) \u001b[38;5;28;01mfrom\u001b[39;00m \u001b[38;5;21;01me\u001b[39;00m\n",
      "File \u001b[0;32m~/anaconda3/envs/EasyEdit/lib/python3.9/site-packages/urllib3/util/connection.py:73\u001b[0m, in \u001b[0;36mcreate_connection\u001b[0;34m(address, timeout, source_address, socket_options)\u001b[0m\n\u001b[1;32m     71\u001b[0m \u001b[38;5;28;01mif\u001b[39;00m source_address:\n\u001b[1;32m     72\u001b[0m     sock\u001b[38;5;241m.\u001b[39mbind(source_address)\n\u001b[0;32m---> 73\u001b[0m \u001b[43msock\u001b[49m\u001b[38;5;241;43m.\u001b[39;49m\u001b[43mconnect\u001b[49m\u001b[43m(\u001b[49m\u001b[43msa\u001b[49m\u001b[43m)\u001b[49m\n\u001b[1;32m     74\u001b[0m \u001b[38;5;66;03m# Break explicitly a reference cycle\u001b[39;00m\n\u001b[1;32m     75\u001b[0m err \u001b[38;5;241m=\u001b[39m \u001b[38;5;28;01mNone\u001b[39;00m\n",
      "\u001b[0;31mKeyboardInterrupt\u001b[0m: "
     ]
    }
   ],
   "source": [
    "import pandas as pd\n",
    "import numpy as np\n",
    "from tqdm.notebook import tqdm  # 변경된 부분\n",
    "\n",
    "df = pd.read_excel(\"one_hop/one_hop_sbj.xlsx\")\n",
    "df.head()\n",
    "\n",
    "a = 0\n",
    "sbj_list = df[['index', 'subject_id']].copy()  # 원본 DataFrame 보호\n",
    "sbj_list['view'] = np.zeros(len(df))\n",
    "\n",
    "for idx, qid in tqdm(enumerate(sbj_list['subject_id'])):\n",
    "    total_views = get_wikipedia_views(qid)\n",
    "    sbj_list.iloc[idx, sbj_list.columns.get_loc('view')] = total_views  # 변경된 부분\n",
    "    if total_views == -1:\n",
    "        a += 1\n",
    "\n",
    "print(a)\n"
   ]
  }
 ],
 "metadata": {
  "kernelspec": {
   "display_name": "EasyEdit",
   "language": "python",
   "name": "python3"
  },
  "language_info": {
   "codemirror_mode": {
    "name": "ipython",
    "version": 3
   },
   "file_extension": ".py",
   "mimetype": "text/x-python",
   "name": "python",
   "nbconvert_exporter": "python",
   "pygments_lexer": "ipython3",
   "version": "3.9.7"
  }
 },
 "nbformat": 4,
 "nbformat_minor": 2
}
