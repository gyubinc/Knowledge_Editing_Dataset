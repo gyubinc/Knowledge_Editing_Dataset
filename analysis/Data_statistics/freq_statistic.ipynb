{
 "cells": [
  {
   "cell_type": "code",
   "execution_count": 1,
   "metadata": {},
   "outputs": [
    {
     "data": {
      "image/png": "[encoded data removed]",
      "text/plain": [
       "<Figure size 640x480 with 1 Axes>"
      ]
     },
     "metadata": {},
     "output_type": "display_data"
    }
   ],
   "source": [
    "import json\n",
    "import matplotlib.pyplot as plt\n",
    "\n",
    "# JSON 파일 읽기\n",
    "with open(\"../../data/one_hop/word_frequency2.json\", \"r\") as file:\n",
    "    data_dict = json.load(file)\n",
    "\n",
    "# 빈도수를 리스트로 변환\n",
    "frequencies = list(data_dict.values())\n",
    "frequencies = [freq for freq in frequencies if freq <= 1000]\n",
    "# 중복된 빈도수 개수를 세기\n",
    "frequency_count = {}\n",
    "for freq in frequencies:\n",
    "    frequency_count[freq] = frequency_count.get(freq, 0) + 1\n",
    "\n",
    "# x축과 y축 데이터\n",
    "x = list(frequency_count.keys())  # 빈도수\n",
    "y = list(frequency_count.values())  # 중복된 빈도수 개수\n",
    "\n",
    "# 히스토그램 그리기\n",
    "plt.bar(x, y, color='skyblue', edgecolor='black')\n",
    "plt.xlabel('Frequency')\n",
    "plt.ylabel('Count of Frequency')\n",
    "plt.title('Histogram of Frequencies')\n",
    "plt.xticks(x)  # x축 눈금 맞추기\n",
    "plt.show()\n"
   ]
  },
  {
   "cell_type": "code",
   "execution_count": 2,
   "metadata": {},
   "outputs": [
    {
     "name": "stdout",
     "output_type": "stream",
     "text": [
      "빈도수가 1 이상인 값들의 개수: 117911\n",
      "빈도수가 2 이상인 값들의 개수: 50876\n",
      "빈도수가 3 이상인 값들의 개수: 36924\n",
      "빈도수가 4 이상인 값들의 개수: 31529\n",
      "빈도수가 5 이상인 값들의 개수: 28416\n",
      "빈도수가 6 이상인 값들의 개수: 26375\n",
      "빈도수가 7 이상인 값들의 개수: 25109\n",
      "빈도수가 8 이상인 값들의 개수: 24095\n",
      "빈도수가 9 이상인 값들의 개수: 22899\n",
      "빈도수가 10 이상인 값들의 개수: 22029\n",
      "빈도수가 20 이상인 값들의 개수: 16984\n",
      "빈도수가 30 이상인 값들의 개수: 13954\n",
      "빈도수가 40 이상인 값들의 개수: 12359\n",
      "빈도수가 50 이상인 값들의 개수: 11043\n",
      "빈도수가 60 이상인 값들의 개수: 9993\n",
      "빈도수가 70 이상인 값들의 개수: 9213\n",
      "빈도수가 80 이상인 값들의 개수: 8650\n",
      "빈도수가 90 이상인 값들의 개수: 8365\n",
      "빈도수가 100 이상인 값들의 개수: 7846\n",
      "빈도수가 200 이상인 값들의 개수: 4470\n",
      "빈도수가 300 이상인 값들의 개수: 3241\n",
      "빈도수가 400 이상인 값들의 개수: 2460\n",
      "빈도수가 500 이상인 값들의 개수: 1250\n",
      "빈도수가 600 이상인 값들의 개수: 942\n",
      "빈도수가 700 이상인 값들의 개수: 836\n",
      "빈도수가 800 이상인 값들의 개수: 760\n",
      "빈도수가 900 이상인 값들의 개수: 712\n",
      "빈도수가 1000 이상인 값들의 개수: 611\n",
      "빈도수가 2000 이상인 값들의 개수: 316\n",
      "빈도수가 3000 이상인 값들의 개수: 186\n",
      "빈도수가 4000 이상인 값들의 개수: 122\n",
      "빈도수가 5000 이상인 값들의 개수: 82\n",
      "빈도수가 6000 이상인 값들의 개수: 52\n",
      "빈도수가 7000 이상인 값들의 개수: 24\n",
      "빈도수가 8000 이상인 값들의 개수: 18\n",
      "빈도수가 9000 이상인 값들의 개수: 15\n"
     ]
    }
   ],
   "source": [
    "def count_frequencies_above_k(data_dict, k):\n",
    "    # 빈도수를 리스트로 변환\n",
    "    frequencies = list(data_dict.values())\n",
    "\n",
    "    # 빈도수가 k 이상인 값들의 개수 계산\n",
    "    count = sum(1 for freq in frequencies if freq >= k)\n",
    "\n",
    "    return count\n",
    "\n",
    "for i in range(1, 10):\n",
    "    k = i\n",
    "    result = count_frequencies_above_k(data_dict, k)\n",
    "    print(f\"빈도수가 {k} 이상인 값들의 개수: {result}\")\n",
    "\n",
    "for i in range(10, 100, 10):\n",
    "    k = i\n",
    "    result = count_frequencies_above_k(data_dict, k)\n",
    "    print(f\"빈도수가 {k} 이상인 값들의 개수: {result}\")\n",
    "\n",
    "for i in range(100, 1000, 100):\n",
    "    k = i\n",
    "    result = count_frequencies_above_k(data_dict, k)\n",
    "    print(f\"빈도수가 {k} 이상인 값들의 개수: {result}\")\n",
    "\n",
    "for i in range(1000, 10000, 1000):\n",
    "    k = i\n",
    "    result = count_frequencies_above_k(data_dict, k)\n",
    "    print(f\"빈도수가 {k} 이상인 값들의 개수: {result}\")"
   ]
  },
  {
   "cell_type": "code",
   "execution_count": 3,
   "metadata": {},
   "outputs": [
    {
     "name": "stdout",
     "output_type": "stream",
     "text": [
      "최댓값 (Max): 32263\n",
      "평균 (Mean): 37.196478700036465\n",
      "중앙값 (Median): 1.0\n",
      "최빈값 (Mode): 1\n",
      "표준편차 (Standard Deviation): 291.684341243808\n",
      "분산 (Variance): 85079.75492683423\n",
      "왜도 (Skewness): 39.146744180767946\n",
      "첨도 (Kurtosis): 2944.754724967844\n"
     ]
    }
   ],
   "source": [
    "import numpy as np\n",
    "from scipy import stats\n",
    "\n",
    "def print_statistics(frequencies):\n",
    "    # 빈도수만 사용하여 통계량 계산\n",
    "    mean = np.mean(frequencies)\n",
    "    median = np.median(frequencies)\n",
    "    mode = stats.mode(frequencies)[0][0]  # 최빈값 (mode)\n",
    "    std_dev = np.std(frequencies)\n",
    "    var = np.var(frequencies)\n",
    "    skewness = stats.skew(frequencies)  # 왜도\n",
    "    kurtosis = stats.kurtosis(frequencies)  # 첨도\n",
    "    Max = max(frequencies)\n",
    "    \n",
    "    # 통계량 출력\n",
    "    print(f\"최댓값 (Max): {Max}\")\n",
    "    print(f\"평균 (Mean): {mean}\")\n",
    "    print(f\"중앙값 (Median): {median}\")\n",
    "    print(f\"최빈값 (Mode): {mode}\")\n",
    "    print(f\"표준편차 (Standard Deviation): {std_dev}\")\n",
    "    print(f\"분산 (Variance): {var}\")\n",
    "    print(f\"왜도 (Skewness): {skewness}\")\n",
    "    print(f\"첨도 (Kurtosis): {kurtosis}\")\n",
    "\n",
    "# 예시 데이터 (빈도수만)\n",
    "frequencies = list(data_dict.values())\n",
    "\n",
    "# 통계량 출력\n",
    "print_statistics(frequencies)\n"
   ]
  }
 ],
 "metadata": {
  "kernelspec": {
   "display_name": "EasyEdit",
   "language": "python",
   "name": "python3"
  },
  "language_info": {
   "codemirror_mode": {
    "name": "ipython",
    "version": 3
   },
   "file_extension": ".py",
   "mimetype": "text/x-python",
   "name": "python",
   "nbconvert_exporter": "python",
   "pygments_lexer": "ipython3",
   "version": "3.9.7"
  }
 },
 "nbformat": 4,
 "nbformat_minor": 2
}
