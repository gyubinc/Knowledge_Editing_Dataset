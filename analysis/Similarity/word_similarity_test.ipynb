{
 "cells": [
  {
   "cell_type": "markdown",
   "metadata": {},
   "source": [
    "# Full data"
   ]
  },
  {
   "cell_type": "markdown",
   "metadata": {},
   "source": [
    "## Frequency based"
   ]
  },
  {
   "cell_type": "code",
   "execution_count": 2,
   "metadata": {},
   "outputs": [
    {
     "name": "stdout",
     "output_type": "stream",
     "text": [
      "/home/gyubin\n"
     ]
    },
    {
     "name": "stderr",
     "output_type": "stream",
     "text": [
      "/home/gyubin/anaconda3/envs/EasyEdit/lib/python3.9/site-packages/IPython/core/magics/osm.py:393: UserWarning: using bookmarks requires you to install the `pickleshare` library.\n",
      "  bkms = self.shell.db.get('bookmarks', {})\n",
      "/home/gyubin/anaconda3/envs/EasyEdit/lib/python3.9/site-packages/IPython/core/magics/osm.py:428: UserWarning: using dhist requires you to install the `pickleshare` library.\n",
      "  self.shell.db['dhist'] = compress_dhist(dhist)[-100:]\n"
     ]
    }
   ],
   "source": [
    "%cd"
   ]
  },
  {
   "cell_type": "code",
   "execution_count": 3,
   "metadata": {},
   "outputs": [
    {
     "data": {
      "text/html": [
       "<div>\n",
       "<style scoped>\n",
       "    .dataframe tbody tr th:only-of-type {\n",
       "        vertical-align: middle;\n",
       "    }\n",
       "\n",
       "    .dataframe tbody tr th {\n",
       "        vertical-align: top;\n",
       "    }\n",
       "\n",
       "    .dataframe thead th {\n",
       "        text-align: right;\n",
       "    }\n",
       "</style>\n",
       "<table border=\"1\" class=\"dataframe\">\n",
       "  <thead>\n",
       "    <tr style=\"text-align: right;\">\n",
       "      <th></th>\n",
       "      <th>index</th>\n",
       "      <th>subject</th>\n",
       "      <th>subject_id</th>\n",
       "      <th>one_hop</th>\n",
       "    </tr>\n",
       "  </thead>\n",
       "  <tbody>\n",
       "    <tr>\n",
       "      <th>0</th>\n",
       "      <td>0</td>\n",
       "      <td>Danielle Darrieux</td>\n",
       "      <td>Q234149</td>\n",
       "      <td>Darrieux,Danielle Darrieux,Danielle Yvonne Mar...</td>\n",
       "    </tr>\n",
       "    <tr>\n",
       "      <th>1</th>\n",
       "      <td>1</td>\n",
       "      <td>Edwin of Northumbria</td>\n",
       "      <td>Q348955</td>\n",
       "      <td>male,Hatfield Chase,Cwenburh,Kingdom of Deira,...</td>\n",
       "    </tr>\n",
       "    <tr>\n",
       "      <th>2</th>\n",
       "      <td>2</td>\n",
       "      <td>Toko Yasuda</td>\n",
       "      <td>Q7813654</td>\n",
       "      <td>rock music,Blonde Redhead,plvsvltramusic,music...</td>\n",
       "    </tr>\n",
       "    <tr>\n",
       "      <th>3</th>\n",
       "      <td>3</td>\n",
       "      <td>Autonomous University of Madrid</td>\n",
       "      <td>Q788091</td>\n",
       "      <td>Spain,Coalition for Advancing Research Assessm...</td>\n",
       "    </tr>\n",
       "    <tr>\n",
       "      <th>4</th>\n",
       "      <td>4</td>\n",
       "      <td>Lyon</td>\n",
       "      <td>Q6709677</td>\n",
       "      <td>Lyon Township, Oakland County, Michigan,United...</td>\n",
       "    </tr>\n",
       "  </tbody>\n",
       "</table>\n",
       "</div>"
      ],
      "text/plain": [
       "   index                          subject subject_id  \\\n",
       "0      0                Danielle Darrieux    Q234149   \n",
       "1      1             Edwin of Northumbria    Q348955   \n",
       "2      2                      Toko Yasuda   Q7813654   \n",
       "3      3  Autonomous University of Madrid    Q788091   \n",
       "4      4                             Lyon   Q6709677   \n",
       "\n",
       "                                             one_hop  \n",
       "0  Darrieux,Danielle Darrieux,Danielle Yvonne Mar...  \n",
       "1  male,Hatfield Chase,Cwenburh,Kingdom of Deira,...  \n",
       "2  rock music,Blonde Redhead,plvsvltramusic,music...  \n",
       "3  Spain,Coalition for Advancing Research Assessm...  \n",
       "4  Lyon Township, Oakland County, Michigan,United...  "
      ]
     },
     "execution_count": 3,
     "metadata": {},
     "output_type": "execute_result"
    }
   ],
   "source": [
    "import pandas as pd\n",
    "\n",
    "df = pd.read_excel('./Knowledge_Editing_Dataset/data/one_hop/re_df_sbj_full_rel.xlsx')\n",
    "#df = pd.read_excel(\"Knowledge_Editing_Dataset/df_one_hop_sbj_34.xlsx\")\n",
    "df.head()"
   ]
  },
  {
   "cell_type": "code",
   "execution_count": 5,
   "metadata": {},
   "outputs": [
    {
     "data": {
      "text/plain": [
       "['Tim Cook',\n",
       " 'Timothy Donald Cook',\n",
       " 'timcook',\n",
       " 'Apple',\n",
       " 'cookt',\n",
       " 'English',\n",
       " 'Tim',\n",
       " 'Cook',\n",
       " 'Donald',\n",
       " 'Palo Alto',\n",
       " 'Timothy',\n",
       " 'Ice Bucket Challenge',\n",
       " 'Lentapedia',\n",
       " 'member of the Alabama Academy of Honor',\n",
       " 'computer scientist',\n",
       " 'businessperson',\n",
       " 'Apple',\n",
       " 'manager',\n",
       " 'engineer',\n",
       " 'Mobile',\n",
       " 'human',\n",
       " 'chief executive officer',\n",
       " 'male',\n",
       " 'presenter',\n",
       " 'United States of America',\n",
       " 'IBM',\n",
       " 'computer industry',\n",
       " 'Fuqua School of Business',\n",
       " 'management',\n",
       " 'Financial Times Person of the Year',\n",
       " 'Duke University',\n",
       " 'homosexuality',\n",
       " 'Robertsdale High School',\n",
       " 'Auburn University',\n",
       " 'Rostrevor College']"
      ]
     },
     "execution_count": 5,
     "metadata": {},
     "output_type": "execute_result"
    }
   ],
   "source": [
    "df.loc[7278, 'one_hop'].split(',')"
   ]
  },
  {
   "cell_type": "code",
   "execution_count": 6,
   "metadata": {},
   "outputs": [],
   "source": [
    "from gensim.models import KeyedVectors\n",
    "\n",
    "# 사전 학습된 Google News Word2Vec 모델을 다운로드\n",
    "# 다운로드 링크: https://s3.amazonaws.com/dl4j-distribution/GoogleNews-vectors-negative300.bin.gz\n",
    "\n",
    "model_path = 'Knowledge_Editing_Dataset/data/similarity/GoogleNews-vectors-negative300.bin.gz'\n",
    "word2vec_model = KeyedVectors.load_word2vec_format(model_path, binary=True)"
   ]
  },
  {
   "cell_type": "code",
   "execution_count": 7,
   "metadata": {},
   "outputs": [
    {
     "name": "stdout",
     "output_type": "stream",
     "text": [
      "Tim Cook\n",
      "{}\n"
     ]
    }
   ],
   "source": [
    "i = 7278\n",
    "sub = df.loc[i,'subject']\n",
    "#sub = \"Messi\"\n",
    "full_hops = df.loc[i, 'one_hop'].split(',')\n",
    "data = dict()\n",
    "print(sub)\n",
    "\n",
    "\n",
    "for word in full_hops:\n",
    "    if sub in word2vec_model and word in word2vec_model:\n",
    "        data[word] = word2vec_model.similarity(sub, word)\n",
    "\n",
    "\n",
    "# 값을 기준으로 내림차순 정렬\n",
    "sorted_data = dict(sorted(data.items(), key=lambda item: item[1], reverse=True))\n",
    "#print(f'The similarity between \"{sub}\" and \"{word}\" is: {similarity}')\n",
    "print(sorted_data)\n",
    "for word in sorted_data:\n",
    "    print(f'The similarity between \"{sub}\" and \"{word}\" is: {sorted_data[word]}')"
   ]
  },
  {
   "cell_type": "code",
   "execution_count": 9,
   "metadata": {},
   "outputs": [
    {
     "name": "stdout",
     "output_type": "stream",
     "text": [
      "Tim Cook\n",
      "['Tim Cook', 'Timothy Donald Cook', 'timcook', 'Apple', 'cookt', 'English', 'Tim', 'Cook', 'Donald', 'Palo Alto', 'Timothy', 'Ice Bucket Challenge', 'Lentapedia', 'member of the Alabama Academy of Honor', 'computer scientist', 'businessperson', 'Apple', 'manager', 'engineer', 'Mobile', 'human', 'chief executive officer', 'male', 'presenter', 'United States of America', 'IBM', 'computer industry', 'Fuqua School of Business', 'management', 'Financial Times Person of the Year', 'Duke University', 'homosexuality', 'Robertsdale High School', 'Auburn University', 'Rostrevor College']\n",
      "{'Tim Cook': 1.0000001, 'United States of America': 0.5730964, 'Timothy Donald Cook': 0.5358318, 'Financial Times Person of the Year': 0.49166813, 'Robertsdale High School': 0.47016907, 'chief executive officer': 0.45391336, 'Rostrevor College': 0.44805196, 'Duke University': 0.4102939, 'Auburn University': 0.39585412, 'Palo Alto': 0.36608255, 'member of the Alabama Academy of Honor': 0.34196532, 'Ice Bucket Challenge': 0.3307712, 'cookt': 0.29772216, 'Fuqua School of Business': 0.2913057, 'Cook': 0.27417526, 'Lentapedia': 0.27344838, 'computer industry': 0.26384968, 'timcook': 0.17940171, 'Timothy': 0.17095779, 'Tim': 0.16458276, 'computer scientist': 0.13955265, 'Donald': 0.13882777, 'male': 0.09911428, 'presenter': 0.09516103, 'homosexuality': 0.08256685, 'management': 0.07856566, 'engineer': 0.072635464, 'Mobile': 0.068872854, 'manager': 0.04329815, 'Apple': 0.039187152, 'businessperson': 0.037588403, 'human': 0.033365253, 'English': 0.03306147, 'IBM': 0.01584035}\n",
      "The similarity between \"Tim Cook\" and \"Tim Cook\" is: 1.0000001192092896\n",
      "The similarity between \"Tim Cook\" and \"United States of America\" is: 0.5730963945388794\n",
      "The similarity between \"Tim Cook\" and \"Timothy Donald Cook\" is: 0.5358318090438843\n",
      "The similarity between \"Tim Cook\" and \"Financial Times Person of the Year\" is: 0.49166813492774963\n",
      "The similarity between \"Tim Cook\" and \"Robertsdale High School\" is: 0.4701690673828125\n",
      "The similarity between \"Tim Cook\" and \"chief executive officer\" is: 0.4539133608341217\n",
      "The similarity between \"Tim Cook\" and \"Rostrevor College\" is: 0.44805195927619934\n",
      "The similarity between \"Tim Cook\" and \"Duke University\" is: 0.41029390692710876\n",
      "The similarity between \"Tim Cook\" and \"Auburn University\" is: 0.395854115486145\n",
      "The similarity between \"Tim Cook\" and \"Palo Alto\" is: 0.3660825490951538\n",
      "The similarity between \"Tim Cook\" and \"member of the Alabama Academy of Honor\" is: 0.34196531772613525\n",
      "The similarity between \"Tim Cook\" and \"Ice Bucket Challenge\" is: 0.33077120780944824\n",
      "The similarity between \"Tim Cook\" and \"cookt\" is: 0.2977221608161926\n",
      "The similarity between \"Tim Cook\" and \"Fuqua School of Business\" is: 0.29130569100379944\n",
      "The similarity between \"Tim Cook\" and \"Cook\" is: 0.2741752564907074\n",
      "The similarity between \"Tim Cook\" and \"Lentapedia\" is: 0.2734483778476715\n",
      "The similarity between \"Tim Cook\" and \"computer industry\" is: 0.263849675655365\n",
      "The similarity between \"Tim Cook\" and \"timcook\" is: 0.1794017106294632\n",
      "The similarity between \"Tim Cook\" and \"Timothy\" is: 0.1709577888250351\n",
      "The similarity between \"Tim Cook\" and \"Tim\" is: 0.164582759141922\n",
      "The similarity between \"Tim Cook\" and \"computer scientist\" is: 0.13955265283584595\n",
      "The similarity between \"Tim Cook\" and \"Donald\" is: 0.13882777094841003\n",
      "The similarity between \"Tim Cook\" and \"male\" is: 0.09911427646875381\n",
      "The similarity between \"Tim Cook\" and \"presenter\" is: 0.09516102820634842\n",
      "The similarity between \"Tim Cook\" and \"homosexuality\" is: 0.08256684988737106\n",
      "The similarity between \"Tim Cook\" and \"management\" is: 0.07856565713882446\n",
      "The similarity between \"Tim Cook\" and \"engineer\" is: 0.0726354643702507\n",
      "The similarity between \"Tim Cook\" and \"Mobile\" is: 0.0688728541135788\n",
      "The similarity between \"Tim Cook\" and \"manager\" is: 0.0432981513440609\n",
      "The similarity between \"Tim Cook\" and \"Apple\" is: 0.039187151938676834\n",
      "The similarity between \"Tim Cook\" and \"businessperson\" is: 0.03758840262889862\n",
      "The similarity between \"Tim Cook\" and \"human\" is: 0.03336525335907936\n",
      "The similarity between \"Tim Cook\" and \"English\" is: 0.033061470836400986\n",
      "The similarity between \"Tim Cook\" and \"IBM\" is: 0.015840349718928337\n"
     ]
    }
   ],
   "source": [
    "import fasttext.util\n",
    "import fasttext\n",
    "import numpy as np\n",
    "\n",
    "# 영어 모델 다운로드\n",
    "fasttext.util.download_model('en', if_exists='ignore')  # 영어 모델 다운로드\n",
    "ft = fasttext.load_model('cc.en.300.bin')  # 다운로드한 모델 로드\n",
    "\n",
    "i = 7278\n",
    "sub = df.loc[i, 'subject']\n",
    "# sub = \"Messi\"\n",
    "full_hops = df.loc[i, 'one_hop'].split(',')\n",
    "data = dict()\n",
    "print(sub)\n",
    "print(full_hops)\n",
    "\n",
    "# 두 벡터의 코사인 유사도를 계산하는 함수\n",
    "def cosine_similarity(vec_a, vec_b):\n",
    "    return np.dot(vec_a, vec_b) / (np.linalg.norm(vec_a) * np.linalg.norm(vec_b))\n",
    "\n",
    "for word in full_hops:\n",
    "    # FastText 모델을 사용하여 단어 벡터를 가져옴\n",
    "    sub_vector = ft.get_word_vector(sub)\n",
    "    word_vector = ft.get_word_vector(word)\n",
    "    \n",
    "    # 두 단어 벡터 간의 유사도 계산\n",
    "    if np.any(sub_vector) and np.any(word_vector):  # 벡터가 존재할 때만 계산\n",
    "        similarity = cosine_similarity(sub_vector, word_vector)\n",
    "        data[word] = similarity\n",
    "\n",
    "# 값을 기준으로 내림차순 정렬\n",
    "sorted_data = dict(sorted(data.items(), key=lambda item: item[1], reverse=True))\n",
    "print(sorted_data)\n",
    "for word in sorted_data:\n",
    "    print(f'The similarity between \"{sub}\" and \"{word}\" is: {sorted_data[word]}')\n"
   ]
  },
  {
   "cell_type": "markdown",
   "metadata": {},
   "source": [
    "# Embedding based"
   ]
  },
  {
   "cell_type": "code",
   "execution_count": 10,
   "metadata": {},
   "outputs": [
    {
     "name": "stdout",
     "output_type": "stream",
     "text": [
      "'apple'와 'orange'의 유사도: 0.360235333442688\n"
     ]
    }
   ],
   "source": [
    "from sentence_transformers import SentenceTransformer, util\n",
    "\n",
    "# SBERT 모델 로드 (pre-trained 모델 사용)\n",
    "model = SentenceTransformer('paraphrase-MiniLM-L6-v2')\n",
    "\n",
    "# 두 단어 정의\n",
    "word1 = \"apple\"\n",
    "word2 = \"orange\"\n",
    "\n",
    "# 각 단어에 대한 임베딩 생성\n",
    "embedding1 = model.encode(word1, convert_to_tensor=True)\n",
    "embedding2 = model.encode(word2, convert_to_tensor=True)\n",
    "\n",
    "# 코사인 유사도 계산\n",
    "similarity = util.pytorch_cos_sim(embedding1, embedding2)\n",
    "\n",
    "# 유사도 출력\n",
    "print(f\"'{word1}'와 '{word2}'의 유사도: {similarity.item()}\")\n"
   ]
  },
  {
   "cell_type": "code",
   "execution_count": 11,
   "metadata": {},
   "outputs": [
    {
     "name": "stdout",
     "output_type": "stream",
     "text": [
      "Tim Cook\n"
     ]
    },
    {
     "name": "stderr",
     "output_type": "stream",
     "text": [
      "100%|██████████| 34/34 [00:00<00:00, 44.18it/s]"
     ]
    },
    {
     "name": "stdout",
     "output_type": "stream",
     "text": [
      "{'Tim Cook': 1.0000001192092896, 'Cook': 0.8581556081771851, 'Timothy Donald Cook': 0.8197294473648071, 'cookt': 0.748644232749939, 'Tim': 0.508840799331665, 'manager': 0.4214176833629608, 'timcook': 0.3937060534954071, 'Timothy': 0.33772513270378113, 'presenter': 0.3251972198486328, 'businessperson': 0.3070620894432068, 'chief executive officer': 0.26448896527290344, 'engineer': 0.26199817657470703, 'male': 0.2525852620601654, 'computer scientist': 0.24279183149337769, 'management': 0.22923238575458527, 'Apple': 0.22832632064819336, 'English': 0.2205059975385666, 'Donald': 0.21591851115226746, 'Financial Times Person of the Year': 0.20169135928153992, 'Fuqua School of Business': 0.1741185486316681, 'human': 0.1693943589925766, 'computer industry': 0.13168072700500488, 'Palo Alto': 0.12846770882606506, 'Robertsdale High School': 0.0976412296295166, 'Lentapedia': 0.08979896456003189, 'member of the Alabama Academy of Honor': 0.07842639833688736, 'Rostrevor College': 0.04673917591571808, 'United States of America': 0.040029071271419525, 'IBM': 0.034441810101270676, 'homosexuality': 0.026229292154312134, 'Ice Bucket Challenge': 0.02482687123119831, 'Duke University': -0.010297468863427639, 'Auburn University': -0.06094526872038841, 'Mobile': -0.06811030209064484}\n",
      "The similarity between \"Tim Cook\" and \"Tim Cook\" is: 1.0000001192092896\n",
      "The similarity between \"Tim Cook\" and \"Cook\" is: 0.8581556081771851\n",
      "The similarity between \"Tim Cook\" and \"Timothy Donald Cook\" is: 0.8197294473648071\n",
      "The similarity between \"Tim Cook\" and \"cookt\" is: 0.748644232749939\n",
      "The similarity between \"Tim Cook\" and \"Tim\" is: 0.508840799331665\n",
      "The similarity between \"Tim Cook\" and \"manager\" is: 0.4214176833629608\n",
      "The similarity between \"Tim Cook\" and \"timcook\" is: 0.3937060534954071\n",
      "The similarity between \"Tim Cook\" and \"Timothy\" is: 0.33772513270378113\n",
      "The similarity between \"Tim Cook\" and \"presenter\" is: 0.3251972198486328\n",
      "The similarity between \"Tim Cook\" and \"businessperson\" is: 0.3070620894432068\n",
      "The similarity between \"Tim Cook\" and \"chief executive officer\" is: 0.26448896527290344\n",
      "The similarity between \"Tim Cook\" and \"engineer\" is: 0.26199817657470703\n",
      "The similarity between \"Tim Cook\" and \"male\" is: 0.2525852620601654\n",
      "The similarity between \"Tim Cook\" and \"computer scientist\" is: 0.24279183149337769\n",
      "The similarity between \"Tim Cook\" and \"management\" is: 0.22923238575458527\n",
      "The similarity between \"Tim Cook\" and \"Apple\" is: 0.22832632064819336\n",
      "The similarity between \"Tim Cook\" and \"English\" is: 0.2205059975385666\n",
      "The similarity between \"Tim Cook\" and \"Donald\" is: 0.21591851115226746\n",
      "The similarity between \"Tim Cook\" and \"Financial Times Person of the Year\" is: 0.20169135928153992\n",
      "The similarity between \"Tim Cook\" and \"Fuqua School of Business\" is: 0.1741185486316681\n",
      "The similarity between \"Tim Cook\" and \"human\" is: 0.1693943589925766\n",
      "The similarity between \"Tim Cook\" and \"computer industry\" is: 0.13168072700500488\n",
      "The similarity between \"Tim Cook\" and \"Palo Alto\" is: 0.12846770882606506\n",
      "The similarity between \"Tim Cook\" and \"Robertsdale High School\" is: 0.0976412296295166\n",
      "The similarity between \"Tim Cook\" and \"Lentapedia\" is: 0.08979896456003189\n",
      "The similarity between \"Tim Cook\" and \"member of the Alabama Academy of Honor\" is: 0.07842639833688736\n",
      "The similarity between \"Tim Cook\" and \"Rostrevor College\" is: 0.04673917591571808\n",
      "The similarity between \"Tim Cook\" and \"United States of America\" is: 0.040029071271419525\n",
      "The similarity between \"Tim Cook\" and \"IBM\" is: 0.034441810101270676\n",
      "The similarity between \"Tim Cook\" and \"homosexuality\" is: 0.026229292154312134\n",
      "The similarity between \"Tim Cook\" and \"Ice Bucket Challenge\" is: 0.02482687123119831\n",
      "The similarity between \"Tim Cook\" and \"Duke University\" is: -0.010297468863427639\n",
      "The similarity between \"Tim Cook\" and \"Auburn University\" is: -0.06094526872038841\n",
      "The similarity between \"Tim Cook\" and \"Mobile\" is: -0.06811030209064484\n"
     ]
    },
    {
     "name": "stderr",
     "output_type": "stream",
     "text": [
      "\n"
     ]
    }
   ],
   "source": [
    "from tqdm import tqdm\n",
    "from sentence_transformers import SentenceTransformer, util\n",
    "\n",
    "# SBERT 모델 로드 (pre-trained 모델 사용)\n",
    "model = SentenceTransformer('paraphrase-MiniLM-L6-v2')\n",
    "\n",
    "\n",
    "def emb_2word(word1, word2):\n",
    "    # 각 단어에 대한 임베딩 생성\n",
    "    embedding1 = model.encode(word1, convert_to_tensor=True)\n",
    "    embedding2 = model.encode(word2, convert_to_tensor=True)\n",
    "\n",
    "    # 코사인 유사도 계산\n",
    "    similarity = util.pytorch_cos_sim(embedding1, embedding2)\n",
    "    return similarity.item()\n",
    "\n",
    "\n",
    "i = 7278\n",
    "sub = df.loc[i,'subject']\n",
    "full_hops = df.loc[i, 'one_hop'].split(',')\n",
    "full_hops = list(set(full_hops))\n",
    "data = dict()\n",
    "print(sub)\n",
    "#print(hops)\n",
    "\n",
    "for word in tqdm(full_hops):\n",
    "    data[word] = emb_2word(sub, word)\n",
    "\n",
    "# 값을 기준으로 내림차순 정렬\n",
    "sorted_data = dict(sorted(data.items(), key=lambda item: item[1], reverse=True))\n",
    "#print(f'The similarity between \"{sub}\" and \"{word}\" is: {similarity}')\n",
    "print(sorted_data)\n",
    "for word in sorted_data:\n",
    "    print(f'The similarity between \"{sub}\" and \"{word}\" is: {sorted_data[word]}')\n"
   ]
  },
  {
   "cell_type": "code",
   "execution_count": 12,
   "metadata": {},
   "outputs": [
    {
     "name": "stderr",
     "output_type": "stream",
     "text": [
      "/home/gyubin/anaconda3/envs/EasyEdit/lib/python3.9/site-packages/huggingface_hub/file_download.py:1132: FutureWarning: `resume_download` is deprecated and will be removed in version 1.0.0. Downloads always resume when possible. If you want to force a new download, use `force_download=True`.\n",
      "  warnings.warn(\n"
     ]
    },
    {
     "data": {
      "application/json": {
       "ascii": false,
       "bar_format": null,
       "colour": null,
       "elapsed": 0.014466285705566406,
       "initial": 0,
       "n": 0,
       "ncols": null,
       "nrows": null,
       "postfix": null,
       "prefix": "tokenizer_config.json",
       "rate": null,
       "total": 48,
       "unit": "B",
       "unit_divisor": 1000,
       "unit_scale": true
      },
      "application/vnd.jupyter.widget-view+json": {
       "model_id": "3b1a5bd050154edc9405d53df933be3d",
       "version_major": 2,
       "version_minor": 0
      },
      "text/plain": [
       "tokenizer_config.json:   0%|          | 0.00/48.0 [00:00<?, ?B/s]"
      ]
     },
     "metadata": {},
     "output_type": "display_data"
    },
    {
     "data": {
      "application/json": {
       "ascii": false,
       "bar_format": null,
       "colour": null,
       "elapsed": 0.014033794403076172,
       "initial": 0,
       "n": 0,
       "ncols": null,
       "nrows": null,
       "postfix": null,
       "prefix": "vocab.txt",
       "rate": null,
       "total": 231508,
       "unit": "B",
       "unit_divisor": 1000,
       "unit_scale": true
      },
      "application/vnd.jupyter.widget-view+json": {
       "model_id": "433a25b17d354b0daf17eb949ee842d2",
       "version_major": 2,
       "version_minor": 0
      },
      "text/plain": [
       "vocab.txt:   0%|          | 0.00/232k [00:00<?, ?B/s]"
      ]
     },
     "metadata": {},
     "output_type": "display_data"
    },
    {
     "data": {
      "application/json": {
       "ascii": false,
       "bar_format": null,
       "colour": null,
       "elapsed": 0.012545108795166016,
       "initial": 0,
       "n": 0,
       "ncols": null,
       "nrows": null,
       "postfix": null,
       "prefix": "tokenizer.json",
       "rate": null,
       "total": 466062,
       "unit": "B",
       "unit_divisor": 1000,
       "unit_scale": true
      },
      "application/vnd.jupyter.widget-view+json": {
       "model_id": "dfa19e7a325b4501bf760bfc2648611e",
       "version_major": 2,
       "version_minor": 0
      },
      "text/plain": [
       "tokenizer.json:   0%|          | 0.00/466k [00:00<?, ?B/s]"
      ]
     },
     "metadata": {},
     "output_type": "display_data"
    },
    {
     "data": {
      "application/json": {
       "ascii": false,
       "bar_format": null,
       "colour": null,
       "elapsed": 0.01323390007019043,
       "initial": 0,
       "n": 0,
       "ncols": null,
       "nrows": null,
       "postfix": null,
       "prefix": "config.json",
       "rate": null,
       "total": 570,
       "unit": "B",
       "unit_divisor": 1000,
       "unit_scale": true
      },
      "application/vnd.jupyter.widget-view+json": {
       "model_id": "17f09b127bdf423eb1909aae35cfb042",
       "version_major": 2,
       "version_minor": 0
      },
      "text/plain": [
       "config.json:   0%|          | 0.00/570 [00:00<?, ?B/s]"
      ]
     },
     "metadata": {},
     "output_type": "display_data"
    },
    {
     "data": {
      "application/json": {
       "ascii": false,
       "bar_format": null,
       "colour": null,
       "elapsed": 0.012389183044433594,
       "initial": 0,
       "n": 0,
       "ncols": null,
       "nrows": null,
       "postfix": null,
       "prefix": "model.safetensors",
       "rate": null,
       "total": 440449768,
       "unit": "B",
       "unit_divisor": 1000,
       "unit_scale": true
      },
      "application/vnd.jupyter.widget-view+json": {
       "model_id": "dbe79dadd4d248a49a3438bf3dfee820",
       "version_major": 2,
       "version_minor": 0
      },
      "text/plain": [
       "model.safetensors:   0%|          | 0.00/440M [00:00<?, ?B/s]"
      ]
     },
     "metadata": {},
     "output_type": "display_data"
    },
    {
     "name": "stdout",
     "output_type": "stream",
     "text": [
      "Tim Cook\n"
     ]
    },
    {
     "name": "stderr",
     "output_type": "stream",
     "text": [
      "100%|██████████| 34/34 [00:01<00:00, 19.33it/s]"
     ]
    },
    {
     "name": "stdout",
     "output_type": "stream",
     "text": [
      "{'Tim Cook': 1.0, 'Timothy Donald Cook': 0.9850752949714661, 'Timothy': 0.9730494618415833, 'Tim': 0.9730461835861206, 'Cook': 0.9729781150817871, 'Donald': 0.9687259793281555, 'Apple': 0.9652021527290344, 'timcook': 0.9591405987739563, 'IBM': 0.9561740159988403, 'Lentapedia': 0.9495500922203064, 'Duke University': 0.9435211420059204, 'businessperson': 0.9332523941993713, 'cookt': 0.9331498146057129, 'presenter': 0.9315454363822937, 'Robertsdale High School': 0.9282682538032532, 'Mobile': 0.927878201007843, 'Auburn University': 0.9219095706939697, 'chief executive officer': 0.9154585599899292, 'Palo Alto': 0.9093027114868164, 'management': 0.8933460116386414, 'member of the Alabama Academy of Honor': 0.8887491822242737, 'human': 0.8844159245491028, 'homosexuality': 0.8837743401527405, 'English': 0.8828087449073792, 'male': 0.8799480199813843, 'United States of America': 0.8794611096382141, 'Ice Bucket Challenge': 0.8663344979286194, 'Financial Times Person of the Year': 0.8623477816581726, 'Rostrevor College': 0.8618955612182617, 'Fuqua School of Business': 0.8601348996162415, 'manager': 0.8519659638404846, 'engineer': 0.8125030994415283, 'computer industry': 0.7269126176834106, 'computer scientist': 0.6000205874443054}\n",
      "The similarity between \"Tim Cook\" and \"Tim Cook\" is: 1.0\n",
      "The similarity between \"Tim Cook\" and \"Timothy Donald Cook\" is: 0.9850752949714661\n",
      "The similarity between \"Tim Cook\" and \"Timothy\" is: 0.9730494618415833\n",
      "The similarity between \"Tim Cook\" and \"Tim\" is: 0.9730461835861206\n",
      "The similarity between \"Tim Cook\" and \"Cook\" is: 0.9729781150817871\n",
      "The similarity between \"Tim Cook\" and \"Donald\" is: 0.9687259793281555\n",
      "The similarity between \"Tim Cook\" and \"Apple\" is: 0.9652021527290344\n",
      "The similarity between \"Tim Cook\" and \"timcook\" is: 0.9591405987739563\n",
      "The similarity between \"Tim Cook\" and \"IBM\" is: 0.9561740159988403\n",
      "The similarity between \"Tim Cook\" and \"Lentapedia\" is: 0.9495500922203064\n",
      "The similarity between \"Tim Cook\" and \"Duke University\" is: 0.9435211420059204\n",
      "The similarity between \"Tim Cook\" and \"businessperson\" is: 0.9332523941993713\n",
      "The similarity between \"Tim Cook\" and \"cookt\" is: 0.9331498146057129\n",
      "The similarity between \"Tim Cook\" and \"presenter\" is: 0.9315454363822937\n",
      "The similarity between \"Tim Cook\" and \"Robertsdale High School\" is: 0.9282682538032532\n",
      "The similarity between \"Tim Cook\" and \"Mobile\" is: 0.927878201007843\n",
      "The similarity between \"Tim Cook\" and \"Auburn University\" is: 0.9219095706939697\n",
      "The similarity between \"Tim Cook\" and \"chief executive officer\" is: 0.9154585599899292\n",
      "The similarity between \"Tim Cook\" and \"Palo Alto\" is: 0.9093027114868164\n",
      "The similarity between \"Tim Cook\" and \"management\" is: 0.8933460116386414\n",
      "The similarity between \"Tim Cook\" and \"member of the Alabama Academy of Honor\" is: 0.8887491822242737\n",
      "The similarity between \"Tim Cook\" and \"human\" is: 0.8844159245491028\n",
      "The similarity between \"Tim Cook\" and \"homosexuality\" is: 0.8837743401527405\n",
      "The similarity between \"Tim Cook\" and \"English\" is: 0.8828087449073792\n",
      "The similarity between \"Tim Cook\" and \"male\" is: 0.8799480199813843\n",
      "The similarity between \"Tim Cook\" and \"United States of America\" is: 0.8794611096382141\n",
      "The similarity between \"Tim Cook\" and \"Ice Bucket Challenge\" is: 0.8663344979286194\n",
      "The similarity between \"Tim Cook\" and \"Financial Times Person of the Year\" is: 0.8623477816581726\n",
      "The similarity between \"Tim Cook\" and \"Rostrevor College\" is: 0.8618955612182617\n",
      "The similarity between \"Tim Cook\" and \"Fuqua School of Business\" is: 0.8601348996162415\n",
      "The similarity between \"Tim Cook\" and \"manager\" is: 0.8519659638404846\n",
      "The similarity between \"Tim Cook\" and \"engineer\" is: 0.8125030994415283\n",
      "The similarity between \"Tim Cook\" and \"computer industry\" is: 0.7269126176834106\n",
      "The similarity between \"Tim Cook\" and \"computer scientist\" is: 0.6000205874443054\n"
     ]
    },
    {
     "name": "stderr",
     "output_type": "stream",
     "text": [
      "\n"
     ]
    }
   ],
   "source": [
    "from tqdm import tqdm\n",
    "from transformers import BertTokenizer, BertModel\n",
    "import torch\n",
    "import torch.nn.functional as F\n",
    "\n",
    "# BERT 모델과 토크나이저 로드\n",
    "model_name = 'bert-base-uncased'  # 또는 다른 BERT 모델\n",
    "tokenizer = BertTokenizer.from_pretrained(model_name)\n",
    "model = BertModel.from_pretrained(model_name)\n",
    "\n",
    "def emb_2word(word1, word2):\n",
    "    # 각 단어에 대한 토큰화\n",
    "    inputs1 = tokenizer(word1, return_tensors='pt', padding=True, truncation=True)\n",
    "    inputs2 = tokenizer(word2, return_tensors='pt', padding=True, truncation=True)\n",
    "\n",
    "    # 모델을 통해 임베딩 생성\n",
    "    with torch.no_grad():\n",
    "        outputs1 = model(**inputs1)\n",
    "        outputs2 = model(**inputs2)\n",
    "\n",
    "    # CLS 토큰의 임베딩 사용 (또는 평균 임베딩 사용 가능)\n",
    "    embedding1 = outputs1.last_hidden_state[:, 0, :]\n",
    "    embedding2 = outputs2.last_hidden_state[:, 0, :]\n",
    "\n",
    "    # 코사인 유사도 계산\n",
    "    similarity = F.cosine_similarity(embedding1, embedding2)\n",
    "    return similarity.item()\n",
    "\n",
    "i = 7278\n",
    "sub = df.loc[i, 'subject']\n",
    "full_hops = df.loc[i, 'one_hop'].split(',')\n",
    "full_hops = list(set(full_hops))\n",
    "data = dict()\n",
    "print(sub)\n",
    "\n",
    "for word in tqdm(full_hops):\n",
    "    data[word] = emb_2word(sub, word)\n",
    "\n",
    "# 값을 기준으로 내림차순 정렬\n",
    "sorted_data = dict(sorted(data.items(), key=lambda item: item[1], reverse=True))\n",
    "\n",
    "print(sorted_data)\n",
    "for word in sorted_data:\n",
    "    print(f'The similarity between \"{sub}\" and \"{word}\" is: {sorted_data[word]}')"
   ]
  }
 ],
 "metadata": {
  "kernelspec": {
   "display_name": "EasyEdit",
   "language": "python",
   "name": "python3"
  },
  "language_info": {
   "codemirror_mode": {
    "name": "ipython",
    "version": 3
   },
   "file_extension": ".py",
   "mimetype": "text/x-python",
   "name": "python",
   "nbconvert_exporter": "python",
   "pygments_lexer": "ipython3",
   "version": "3.9.7"
  }
 },
 "nbformat": 4,
 "nbformat_minor": 2
}
