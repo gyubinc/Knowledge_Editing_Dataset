{
 "cells": [
  {
   "cell_type": "code",
   "execution_count": 1,
   "metadata": {},
   "outputs": [
    {
     "name": "stdout",
     "output_type": "stream",
     "text": [
      "file name is train.0\n",
      "file name is train.1\n",
      "file name is train.2\n",
      "file name is train.3\n",
      "file name is train.4\n",
      "file name is train.5\n",
      "file name is train.6\n",
      "file name is train.7\n",
      "file name is train.8\n",
      "file name is train.9\n",
      "finish\n"
     ]
    }
   ],
   "source": [
    "import os\n",
    "import pandas as pd\n",
    "\n",
    "zsRE_folder_path = \"./data/zsRE\"\n",
    "data_type = 'train'\n",
    "\n",
    "all_data = []\n",
    "folder_path = zsRE_folder_path\n",
    "for filename in os.listdir(folder_path):\n",
    "    if filename.startswith(data_type):\n",
    "        print(f'file name is {filename}')\n",
    "        file_path = os.path.join(folder_path, filename)\n",
    "        with open(file_path, 'r', encoding='utf-8') as file:\n",
    "            lines = file.readlines()\n",
    "            for line in lines:\n",
    "                parts = line.strip().split('\\t')\n",
    "                all_data.append(parts)\n",
    "                \n",
    "\n",
    "print('finish')\n",
    "# 모든 데이터를 DataFrame으로 변환\n"
   ]
  },
  {
   "cell_type": "code",
   "execution_count": 2,
   "metadata": {},
   "outputs": [],
   "source": [
    "def group_lists(data):\n",
    "    result = []\n",
    "    for sublist in data:\n",
    "        if len(sublist) > 4:\n",
    "            sublist = sublist[:4] + [sublist[4:]]\n",
    "        else:\n",
    "            sublist.append(None)\n",
    "        result.append(sublist)\n",
    "    return result\n",
    "\n",
    "final_data = group_lists(all_data)"
   ]
  },
  {
   "cell_type": "code",
   "execution_count": 3,
   "metadata": {},
   "outputs": [],
   "source": [
    "def data_title(data, num):\n",
    "    for i in data:\n",
    "        if len(i) == num:\n",
    "            return i"
   ]
  },
  {
   "cell_type": "code",
   "execution_count": 4,
   "metadata": {},
   "outputs": [],
   "source": [
    "data_title(all_data, 4)"
   ]
  },
  {
   "cell_type": "code",
   "execution_count": 5,
   "metadata": {},
   "outputs": [],
   "source": [
    "def data_title(data, num):\n",
    "    a = 0\n",
    "    for i in data:\n",
    "        if len(i) == num:\n",
    "            print(i)\n",
    "            a += 1\n",
    "        if a == 3:\n",
    "            break\n",
    "data_title(all_data, 4)"
   ]
  },
  {
   "cell_type": "code",
   "execution_count": 6,
   "metadata": {},
   "outputs": [
    {
     "name": "stdout",
     "output_type": "stream",
     "text": [
      "['place of birth', \"What was XXX's city of birth?\", 'Isaac Nicola', 'Isaac Nicola Romero (1916 in Havana, Cuba -- 1997) was a prominent Cuban guitarist and one of the founders of the modern Cuban Guitar School.', 'Havana']\n",
      "['noble title', 'What was the title that XXX held?', 'Timur', 'Both Timur and Demir are popular male names in Turkey today.', None]\n",
      "['child', 'Who is the offspring of XXX?', 'Miltiades', 'In c.555 BCE Miltiades the Elder left Athens to establish a colony on the Thracian Chersonese (now the Gallipoli Peninsula), setting himself up as a semi-autonomous tyrant under the protection of Athens.', None]\n"
     ]
    }
   ],
   "source": [
    "data_title(all_data, 5)"
   ]
  },
  {
   "cell_type": "code",
   "execution_count": 7,
   "metadata": {},
   "outputs": [
    {
     "name": "stdout",
     "output_type": "stream",
     "text": [
      "['editor', 'What is the name of the editors of XXX?', 'The Best American Poetry 1996', 'The Best American Poetry 1996, a volume in The Best American Poetry series, was edited by David Lehman and by guest editor Adrienne Rich.', 'David Lehman', 'Adrienne Rich']\n",
      "['airline hub', 'At what airport can you find XXX?', 'UTair Aviation', \"UTair Aviation (Russian: ОАО ``Авиакомпания ``ЮТэйр'') (MCX: UTAR) is a Russian airline with its head office at Khanty-Mansiysk Airport while its main base is at Roshchino International Airport near Tyumen. It operates scheduled domestic and some international passenger services, scheduled helicopter services as well as extensive charter flights with fixed-wing aircraft and helicopters in support of the oil and gas industry across Western Siberia.\", 'Khanty-Mansiysk Airport', 'Roshchino International Airport']\n",
      "['editor', 'What is the name of the editors of XXX?', 'The Best American Poetry 2007', 'The Best American Poetry 2007, a volume in The Best American Poetry series, was edited by poet Heather McHugh, guest editor, who made the final selections, and David Lehman, the general editor for the series.', 'Heather McHugh', 'David Lehman']\n"
     ]
    }
   ],
   "source": [
    "data_title(all_data, 6)"
   ]
  },
  {
   "cell_type": "code",
   "execution_count": 8,
   "metadata": {},
   "outputs": [
    {
     "name": "stdout",
     "output_type": "stream",
     "text": [
      "['operating system', 'What is the operating system used with XXX?', 'Nmap', 'Nmap was originally a Linux-only utility, but it was ported to Windows, Solaris, HP-UX, BSD variants (including OS X), AmigaOS, and IRIX.', 'Linux', 'Solaris', 'OS X']\n",
      "['cast member', 'Who acted in XXX?', 'Billy Two Hats', \"It stars Gregory Peck, Jack Warden and Desi Arnaz, Jr. Filmed on-location in Israel, Billy Two Hats is from a script by Scottish writer Alan Sharp, the screenwriter of Rob Roy and Ulzana's Raid.\", 'Gregory Peck', 'Jack Warden', 'Desi Arnaz']\n",
      "['cast member', 'Who are the cast members of XXX?', 'The Strange Woman', 'The Strange Woman is a 1946 American dramatic thriller film directed by Edgar G. Ulmer and starring Hedy Lamarr, George Sanders, and Louis Hayward.', 'Hedy Lamarr', 'George Sanders', 'Louis Hayward']\n"
     ]
    }
   ],
   "source": [
    "data_title(all_data, 7)"
   ]
  },
  {
   "cell_type": "code",
   "execution_count": 9,
   "metadata": {},
   "outputs": [],
   "source": [
    "df = pd.DataFrame(final_data, columns=['Relation', 'Question', 'Entity', 'Sentences', 'Answer'])"
   ]
  },
  {
   "cell_type": "code",
   "execution_count": 10,
   "metadata": {},
   "outputs": [
    {
     "data": {
      "text/html": [
       "<div>\n",
       "<style scoped>\n",
       "    .dataframe tbody tr th:only-of-type {\n",
       "        vertical-align: middle;\n",
       "    }\n",
       "\n",
       "    .dataframe tbody tr th {\n",
       "        vertical-align: top;\n",
       "    }\n",
       "\n",
       "    .dataframe thead th {\n",
       "        text-align: right;\n",
       "    }\n",
       "</style>\n",
       "<table border=\"1\" class=\"dataframe\">\n",
       "  <thead>\n",
       "    <tr style=\"text-align: right;\">\n",
       "      <th></th>\n",
       "      <th>Relation</th>\n",
       "      <th>Question</th>\n",
       "      <th>Entity</th>\n",
       "      <th>Sentences</th>\n",
       "      <th>Answer</th>\n",
       "    </tr>\n",
       "  </thead>\n",
       "  <tbody>\n",
       "    <tr>\n",
       "      <th>0</th>\n",
       "      <td>place of birth</td>\n",
       "      <td>What was XXX's city of birth?</td>\n",
       "      <td>Isaac Nicola</td>\n",
       "      <td>Isaac Nicola Romero (1916 in Havana, Cuba -- 1...</td>\n",
       "      <td>[Havana]</td>\n",
       "    </tr>\n",
       "    <tr>\n",
       "      <th>1</th>\n",
       "      <td>noble title</td>\n",
       "      <td>What was the title that XXX held?</td>\n",
       "      <td>Timur</td>\n",
       "      <td>Both Timur and Demir are popular male names in...</td>\n",
       "      <td>None</td>\n",
       "    </tr>\n",
       "    <tr>\n",
       "      <th>2</th>\n",
       "      <td>child</td>\n",
       "      <td>Who is the offspring of XXX?</td>\n",
       "      <td>Miltiades</td>\n",
       "      <td>In c.555 BCE Miltiades the Elder left Athens t...</td>\n",
       "      <td>None</td>\n",
       "    </tr>\n",
       "    <tr>\n",
       "      <th>3</th>\n",
       "      <td>developer</td>\n",
       "      <td>Who is originally behind the development of XXX?</td>\n",
       "      <td>Beach Volley</td>\n",
       "      <td>A stranger interrupts a beach volleyball game ...</td>\n",
       "      <td>None</td>\n",
       "    </tr>\n",
       "    <tr>\n",
       "      <th>4</th>\n",
       "      <td>military rank</td>\n",
       "      <td>What along with privateer was XXX's military r...</td>\n",
       "      <td>John R. Allen, Jr.</td>\n",
       "      <td>John R. Allen, Jr. was born in Louisville, Ken...</td>\n",
       "      <td>None</td>\n",
       "    </tr>\n",
       "  </tbody>\n",
       "</table>\n",
       "</div>"
      ],
      "text/plain": [
       "         Relation                                           Question  \\\n",
       "0  place of birth                      What was XXX's city of birth?   \n",
       "1     noble title                  What was the title that XXX held?   \n",
       "2           child                       Who is the offspring of XXX?   \n",
       "3       developer   Who is originally behind the development of XXX?   \n",
       "4   military rank  What along with privateer was XXX's military r...   \n",
       "\n",
       "               Entity                                          Sentences  \\\n",
       "0        Isaac Nicola  Isaac Nicola Romero (1916 in Havana, Cuba -- 1...   \n",
       "1               Timur  Both Timur and Demir are popular male names in...   \n",
       "2           Miltiades  In c.555 BCE Miltiades the Elder left Athens t...   \n",
       "3        Beach Volley  A stranger interrupts a beach volleyball game ...   \n",
       "4  John R. Allen, Jr.  John R. Allen, Jr. was born in Louisville, Ken...   \n",
       "\n",
       "     Answer  \n",
       "0  [Havana]  \n",
       "1      None  \n",
       "2      None  \n",
       "3      None  \n",
       "4      None  "
      ]
     },
     "execution_count": 10,
     "metadata": {},
     "output_type": "execute_result"
    }
   ],
   "source": [
    "df.head()"
   ]
  },
  {
   "cell_type": "code",
   "execution_count": 11,
   "metadata": {},
   "outputs": [],
   "source": [
    "df['Question'] = df.apply(lambda row: row['Question'].replace('XXX', row['Entity']), axis=1)\n",
    "df.drop('Entity', axis=1, inplace=True)"
   ]
  },
  {
   "cell_type": "code",
   "execution_count": 12,
   "metadata": {},
   "outputs": [
    {
     "data": {
      "text/html": [
       "<div>\n",
       "<style scoped>\n",
       "    .dataframe tbody tr th:only-of-type {\n",
       "        vertical-align: middle;\n",
       "    }\n",
       "\n",
       "    .dataframe tbody tr th {\n",
       "        vertical-align: top;\n",
       "    }\n",
       "\n",
       "    .dataframe thead th {\n",
       "        text-align: right;\n",
       "    }\n",
       "</style>\n",
       "<table border=\"1\" class=\"dataframe\">\n",
       "  <thead>\n",
       "    <tr style=\"text-align: right;\">\n",
       "      <th></th>\n",
       "      <th>Relation</th>\n",
       "      <th>Question</th>\n",
       "      <th>Sentences</th>\n",
       "      <th>Answer</th>\n",
       "    </tr>\n",
       "  </thead>\n",
       "  <tbody>\n",
       "    <tr>\n",
       "      <th>0</th>\n",
       "      <td>place of birth</td>\n",
       "      <td>What was Isaac Nicola's city of birth?</td>\n",
       "      <td>Isaac Nicola Romero (1916 in Havana, Cuba -- 1...</td>\n",
       "      <td>[Havana]</td>\n",
       "    </tr>\n",
       "    <tr>\n",
       "      <th>1</th>\n",
       "      <td>noble title</td>\n",
       "      <td>What was the title that Timur held?</td>\n",
       "      <td>Both Timur and Demir are popular male names in...</td>\n",
       "      <td>None</td>\n",
       "    </tr>\n",
       "    <tr>\n",
       "      <th>2</th>\n",
       "      <td>child</td>\n",
       "      <td>Who is the offspring of Miltiades?</td>\n",
       "      <td>In c.555 BCE Miltiades the Elder left Athens t...</td>\n",
       "      <td>None</td>\n",
       "    </tr>\n",
       "    <tr>\n",
       "      <th>3</th>\n",
       "      <td>developer</td>\n",
       "      <td>Who is originally behind the development of Be...</td>\n",
       "      <td>A stranger interrupts a beach volleyball game ...</td>\n",
       "      <td>None</td>\n",
       "    </tr>\n",
       "    <tr>\n",
       "      <th>4</th>\n",
       "      <td>military rank</td>\n",
       "      <td>What along with privateer was John R. Allen, J...</td>\n",
       "      <td>John R. Allen, Jr. was born in Louisville, Ken...</td>\n",
       "      <td>None</td>\n",
       "    </tr>\n",
       "  </tbody>\n",
       "</table>\n",
       "</div>"
      ],
      "text/plain": [
       "         Relation                                           Question  \\\n",
       "0  place of birth             What was Isaac Nicola's city of birth?   \n",
       "1     noble title                What was the title that Timur held?   \n",
       "2           child                 Who is the offspring of Miltiades?   \n",
       "3       developer  Who is originally behind the development of Be...   \n",
       "4   military rank  What along with privateer was John R. Allen, J...   \n",
       "\n",
       "                                           Sentences    Answer  \n",
       "0  Isaac Nicola Romero (1916 in Havana, Cuba -- 1...  [Havana]  \n",
       "1  Both Timur and Demir are popular male names in...      None  \n",
       "2  In c.555 BCE Miltiades the Elder left Athens t...      None  \n",
       "3  A stranger interrupts a beach volleyball game ...      None  \n",
       "4  John R. Allen, Jr. was born in Louisville, Ken...      None  "
      ]
     },
     "execution_count": 12,
     "metadata": {},
     "output_type": "execute_result"
    }
   ],
   "source": [
    "df.head()"
   ]
  },
  {
   "cell_type": "code",
   "execution_count": 13,
   "metadata": {},
   "outputs": [],
   "source": [
    "def check(all_data):\n",
    "    num = []\n",
    "    relation = []\n",
    "    for i in all_data:\n",
    "        num.append(len(i)-3)\n",
    "        relation.append(i[0])\n",
    "    return num, relation\n",
    "num, relation = check(all_data)\n"
   ]
  },
  {
   "cell_type": "code",
   "execution_count": 14,
   "metadata": {},
   "outputs": [
    {
     "data": {
      "text/plain": [
       "Counter({'place of birth': 70000,\n",
       "         'noble title': 70000,\n",
       "         'child': 70000,\n",
       "         'developer': 70000,\n",
       "         'military rank': 80000,\n",
       "         'location of formation': 60000,\n",
       "         'present in work': 70000,\n",
       "         'nominated for': 70000,\n",
       "         'illustrator': 60000,\n",
       "         'operating system': 80000,\n",
       "         'mouth of the watercourse': 70000,\n",
       "         'taxon rank': 70000,\n",
       "         'named after': 70000,\n",
       "         'languages spoken or written': 70000,\n",
       "         'dissolved or abolished': 60000,\n",
       "         'noble family': 70000,\n",
       "         'end time': 60000,\n",
       "         'position played on team / speciality': 60000,\n",
       "         'member of sports team': 60000,\n",
       "         'characters': 80000,\n",
       "         'time of discovery': 70000,\n",
       "         'designer': 80000,\n",
       "         'film editor': 80000,\n",
       "         'manufacturer': 70000,\n",
       "         'located on astronomical body': 70000,\n",
       "         'country of origin': 70000,\n",
       "         'stock exchange': 70000,\n",
       "         'continent': 80000,\n",
       "         'publisher': 70000,\n",
       "         'programming language': 60000,\n",
       "         'father': 70000,\n",
       "         'canonization status': 80000,\n",
       "         'founder': 70000,\n",
       "         'start time': 60000,\n",
       "         'instrument': 80000,\n",
       "         'airline hub': 70000,\n",
       "         'lyrics by': 80000,\n",
       "         'language of work or name': 80000,\n",
       "         'located in the administrative territorial entity': 80000,\n",
       "         'participant of': 80000,\n",
       "         'sport': 60000,\n",
       "         'found in taxon': 60000,\n",
       "         'position held': 70000,\n",
       "         'editor': 80000,\n",
       "         'parent taxon': 80000,\n",
       "         'country of citizenship': 70000,\n",
       "         'crosses': 80000,\n",
       "         'place of death': 60000,\n",
       "         'chromosome': 70000,\n",
       "         'distributor': 70000,\n",
       "         'licensed to broadcast to': 80000,\n",
       "         'license': 80000,\n",
       "         'instrumentation': 70000,\n",
       "         'record label': 70000,\n",
       "         'brother': 60000,\n",
       "         'located next to body of water': 60000,\n",
       "         'voice type': 80000,\n",
       "         'screenwriter': 60000,\n",
       "         'conferred by': 80000,\n",
       "         'member of political party': 60000,\n",
       "         'publication date': 70000,\n",
       "         'religious order': 60000,\n",
       "         'site of astronomical discovery': 80000,\n",
       "         'sister': 70000,\n",
       "         'performer': 60000,\n",
       "         'headquarters location': 70000,\n",
       "         'architectural style': 60000,\n",
       "         'discoverer or inventor': 60000,\n",
       "         'from fictional universe': 60000,\n",
       "         'native language': 70000,\n",
       "         'inception': 60000,\n",
       "         'league': 80000,\n",
       "         'architect': 70000,\n",
       "         'mother': 60000,\n",
       "         'author': 70000,\n",
       "         'cast member': 80000,\n",
       "         'place of burial': 70000,\n",
       "         'connecting line': 80000,\n",
       "         'date of birth': 70000,\n",
       "         'creator': 80000,\n",
       "         'chairperson': 70000,\n",
       "         'vessel class': 80000,\n",
       "         'time of spacecraft launch': 60000,\n",
       "         'country': 70000,\n",
       "         'spouse': 70000,\n",
       "         'point in time': 70000,\n",
       "         'based on': 70000,\n",
       "         'series': 70000,\n",
       "         'convicted of': 70000,\n",
       "         'conflict': 70000,\n",
       "         'occupation': 80000,\n",
       "         'military branch': 70000,\n",
       "         'collection': 60000,\n",
       "         'educated at': 60000,\n",
       "         'parent company': 80000,\n",
       "         'date of death': 80000,\n",
       "         'award received': 80000,\n",
       "         'sex or gender': 70000,\n",
       "         'production company': 70000,\n",
       "         'standards body': 80000,\n",
       "         'medical condition': 80000,\n",
       "         'constellation': 70000,\n",
       "         'drafted by': 70000,\n",
       "         'service entry': 70000,\n",
       "         'original network': 80000,\n",
       "         'narrative location': 70000,\n",
       "         'residence': 80000,\n",
       "         'director': 70000,\n",
       "         'cause of death': 60000,\n",
       "         'home venue': 60000,\n",
       "         'IUCN conservation status': 60000,\n",
       "         'material used': 60000,\n",
       "         'employer': 60000,\n",
       "         'manner of death': 60000,\n",
       "         'replaced by': 60000,\n",
       "         'product': 60000,\n",
       "         'industry': 70000,\n",
       "         'occupant': 70000,\n",
       "         'date of official opening': 70000,\n",
       "         'head of government': 70000})"
      ]
     },
     "execution_count": 14,
     "metadata": {},
     "output_type": "execute_result"
    }
   ],
   "source": [
    "from collections import Counter\n",
    "counter = Counter(list(df['Relation']))\n",
    "\n",
    "counter"
   ]
  },
  {
   "cell_type": "code",
   "execution_count": 15,
   "metadata": {},
   "outputs": [
    {
     "name": "stdout",
     "output_type": "stream",
     "text": [
      "\n",
      "2  : 8294957\n",
      "3  : 80483\n",
      "5  : 5100\n",
      "4  : 16184\n",
      "6  : 1959\n",
      "7  : 637\n",
      "9  : 230\n",
      "13 : 32\n",
      "10 : 115\n",
      "8  : 222\n",
      "12 : 38\n",
      "14 : 8\n",
      "11 : 21\n",
      "21 : 14\n",
      "total rows : 8400000\n"
     ]
    }
   ],
   "source": [
    "from collections import Counter\n",
    "counter = Counter(num)\n",
    "print('')\n",
    "for key in counter.keys():\n",
    "    print('{:<2} : {}'.format(key, counter[key]))\n",
    "print(f'total rows : {sum(counter.values())}')"
   ]
  }
 ],
 "metadata": {
  "kernelspec": {
   "display_name": "KE",
   "language": "python",
   "name": "python3"
  },
  "language_info": {
   "codemirror_mode": {
    "name": "ipython",
    "version": 3
   },
   "file_extension": ".py",
   "mimetype": "text/x-python",
   "name": "python",
   "nbconvert_exporter": "python",
   "pygments_lexer": "ipython3",
   "version": "3.7.0"
  }
 },
 "nbformat": 4,
 "nbformat_minor": 2
}
